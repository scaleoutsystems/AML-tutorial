{
 "cells": [
  {
   "cell_type": "code",
   "execution_count": 2,
   "metadata": {},
   "outputs": [],
   "source": [
    "import tensorflow\n",
    "from client.models.AMLmodel import AMLModel"
   ]
  },
  {
   "cell_type": "markdown",
   "metadata": {},
   "source": [
    "## Create model"
   ]
  },
  {
   "cell_type": "code",
   "execution_count": 3,
   "metadata": {},
   "outputs": [],
   "source": [
    "model = AMLModel()"
   ]
  },
  {
   "cell_type": "markdown",
   "metadata": {},
   "source": [
    "## Load training data"
   ]
  },
  {
   "cell_type": "code",
   "execution_count": 4,
   "metadata": {},
   "outputs": [],
   "source": [
    "import pickle\n",
    "import numpy as np\n",
    "import os\n",
    "import_folder = 'dataset/raw'\n",
    "\n",
    "x_train = pickle.load( open(import_folder + \"/x_train.p\", \"rb\" ) )\n",
    "y_train = pickle.load( open(import_folder + \"/y_train.p\", \"rb\" ) )\n",
    "\n",
    "x_val = pickle.load( open(import_folder + \"/x_val.p\", \"rb\" ) )\n",
    "y_val = pickle.load( open(import_folder + \"/y_val.p\", \"rb\" ) )\n",
    "\n",
    "x_test = pickle.load( open(import_folder + \"/x_test.p\", \"rb\" ) )\n",
    "y_test = pickle.load( open(import_folder + \"/y_test.p\", \"rb\" ) )"
   ]
  },
  {
   "cell_type": "code",
   "execution_count": null,
   "metadata": {},
   "outputs": [],
   "source": []
  },
  {
   "cell_type": "code",
   "execution_count": 5,
   "metadata": {},
   "outputs": [],
   "source": [
    "def pre_process(x_data, y_data):\n",
    "    num_classes = 15\n",
    "    y_data = tensorflow.keras.utils.to_categorical(y_data, num_classes)\n",
    "    x_data = x_data.astype('float32')\n",
    "    x_data /= 255\n",
    "    return x_data, y_data"
   ]
  },
  {
   "cell_type": "code",
   "execution_count": 6,
   "metadata": {},
   "outputs": [],
   "source": [
    "x_train, y_train = pre_process(x_train,y_train)\n",
    "x_val, y_val = pre_process(x_val,y_val)"
   ]
  },
  {
   "cell_type": "code",
   "execution_count": 7,
   "metadata": {},
   "outputs": [
    {
     "data": {
      "text/plain": [
       "(15025, 100, 100, 4)"
      ]
     },
     "execution_count": 7,
     "metadata": {},
     "output_type": "execute_result"
    }
   ],
   "source": [
    "x_train.shape"
   ]
  },
  {
   "cell_type": "markdown",
   "metadata": {},
   "source": [
    "## Train model"
   ]
  },
  {
   "cell_type": "code",
   "execution_count": null,
   "metadata": {},
   "outputs": [
    {
     "name": "stdout",
     "output_type": "stream",
     "text": [
      "Not using data augmentation.\n"
     ]
    }
   ],
   "source": [
    "model.fit(x_train,y_train,x_val,y_val,batch_size=8, data_augmentation=False)\n",
    "model_json = model.model.to_json()\n",
    "f = open('model.json', 'w')\n",
    "f.write(model_json)\n",
    "f.close()\n",
    "model.model.save_weights('model_weights.h5')"
   ]
  },
  {
   "cell_type": "code",
   "execution_count": 1,
   "metadata": {},
   "outputs": [
    {
     "ename": "NameError",
     "evalue": "name 'keras' is not defined",
     "output_type": "error",
     "traceback": [
      "\u001b[0;31m---------------------------------------------------------------------------\u001b[0m",
      "\u001b[0;31mNameError\u001b[0m                                 Traceback (most recent call last)",
      "\u001b[0;32m<ipython-input-1-c4de7f6944d1>\u001b[0m in \u001b[0;36m<module>\u001b[0;34m\u001b[0m\n\u001b[0;32m----> 1\u001b[0;31m \u001b[0mmodel\u001b[0m\u001b[0;34m.\u001b[0m\u001b[0mmodel\u001b[0m \u001b[0;34m=\u001b[0m \u001b[0mkeras\u001b[0m\u001b[0;34m.\u001b[0m\u001b[0mmodels\u001b[0m\u001b[0;34m.\u001b[0m\u001b[0mload_model\u001b[0m\u001b[0;34m(\u001b[0m\u001b[0;34m'MLmodel.hdf5'\u001b[0m\u001b[0;34m)\u001b[0m\u001b[0;34m\u001b[0m\u001b[0;34m\u001b[0m\u001b[0m\n\u001b[0m",
      "\u001b[0;31mNameError\u001b[0m: name 'keras' is not defined"
     ]
    }
   ],
   "source": [
    "model.model = tensorflow.keras.models.load_model('MLmodel.hdf5')"
   ]
  },
  {
   "cell_type": "code",
   "execution_count": null,
   "metadata": {},
   "outputs": [],
   "source": [
    "report = model.classification_report(x_test,y_test)\n",
    "print(report)"
   ]
  },
  {
   "cell_type": "code",
   "execution_count": null,
   "metadata": {},
   "outputs": [],
   "source": [
    "report = model.classification_report(x_test,y_test)\n",
    "print(report)"
   ]
  },
  {
   "cell_type": "code",
   "execution_count": null,
   "metadata": {},
   "outputs": [],
   "source": [
    "np.argmax(y_test,1)\n",
    "np.unique(np.argmax(y_test,1),return_counts=True)"
   ]
  },
  {
   "cell_type": "code",
   "execution_count": null,
   "metadata": {},
   "outputs": [],
   "source": [
    "from matplotlib import pylab as plt\n",
    "import itertools\n",
    "M = model.confusion_matrix(x_test,y_test)\n",
    "M = np.int32(M[:15,:15])\n",
    "print(M)\n",
    "print(\"----\")\n",
    "print(np.sum(M,1))\n",
    "print(\"----\")\n",
    "M = (M.T/np.sum(M,1)).T\n",
    "\n",
    "print(M)\n",
    "\n",
    "f, ax = plt.subplots(1,1,figsize=(15,15))\n",
    "ax.imshow(M,cmap='Purples')\n",
    "\n",
    "# Major ticks\n",
    "ax.set_xticks(np.arange(0, 15, 1));\n",
    "ax.set_yticks(np.arange(0, 15, 1));\n",
    "\n",
    "# Labels for major ticks\n",
    "ax.set_xticklabels(np.arange(1, 15, 1));\n",
    "ax.set_yticklabels(np.arange(1, 15, 1));\n",
    "\n",
    "# Minor ticks\n",
    "ax.set_xticks(np.arange(-.5, 14, 1), minor=True);\n",
    "ax.set_yticks(np.arange(-.5, 14, 1), minor=True);\n",
    "\n",
    "ax.grid(which='minor', color='black', linestyle='-', linewidth=2)\n",
    "\n",
    "\n",
    "ax.set_xlabel('Predictions')\n",
    "ax.set_ylabel('Truth')\n",
    "upper_thresh = 0.5\n",
    "format(M[i, j], '.2f')\n",
    "for i,j in itertools.product(range(15),range(15)):\n",
    "    ax.text(j, i, format(M[i, j], '.2f'), horizontalalignment=\"center\", fontsize=20,\n",
    "                 color=\"white\" if (M[i, j] > upper_thresh ) else \"black\")\n",
    "\n",
    "plt.show()"
   ]
  },
  {
   "cell_type": "code",
   "execution_count": null,
   "metadata": {},
   "outputs": [],
   "source": [
    "from matplotlib import pylab as plt\n",
    "import itertools\n",
    "M = model.confusion_matrix(x_test,y_test)\n",
    "M = np.int32(M[:15,:15])\n",
    "\n",
    "M = (M.T/np.sum(M,1)).T\n",
    "\n",
    "\n",
    "f, ax = plt.subplots(1,1,figsize=(15,15))\n",
    "ax.imshow(M,cmap='Purples')\n",
    "\n",
    "# Major ticks\n",
    "ax.set_xticks(np.arange(0, 15, 1));\n",
    "ax.set_yticks(np.arange(0, 15, 1));\n",
    "\n",
    "# Labels for major ticks\n",
    "ax.set_xticklabels(np.arange(1, 15, 1));\n",
    "ax.set_yticklabels(np.arange(1, 15, 1));\n",
    "\n",
    "# Minor ticks\n",
    "ax.set_xticks(np.arange(-.5, 14, 1), minor=True);\n",
    "ax.set_yticks(np.arange(-.5, 14, 1), minor=True);\n",
    "\n",
    "ax.grid(which='minor', color='black', linestyle='-', linewidth=2)\n",
    "\n",
    "\n",
    "ax.set_xlabel('Predictions')\n",
    "ax.set_ylabel('Truth')\n",
    "upper_thresh = 0.5\n",
    "format(M[i, j], '.2f')\n",
    "for i,j in itertools.product(range(15),range(15)):\n",
    "    ax.text(j, i, format(M[i, j], '.2f'), horizontalalignment=\"center\", fontsize=20,\n",
    "                 color=\"white\" if (M[i, j] > upper_thresh ) else \"black\")\n",
    "\n",
    "plt.show()"
   ]
  },
  {
   "cell_type": "code",
   "execution_count": null,
   "metadata": {},
   "outputs": [],
   "source": [
    "y_pred = model.model.predict_classes(x_test)\n",
    "y_test_ = np.argmax(y_test,1)"
   ]
  },
  {
   "cell_type": "code",
   "execution_count": null,
   "metadata": {},
   "outputs": [],
   "source": [
    "print(y_pred.shape)\n",
    "print(y_test_.shape)\n",
    "\n",
    "for pred_, true_ in zip(y_pred,y_test_):\n",
    "    print(pred_, \" - \", true_)"
   ]
  }
 ],
 "metadata": {
  "kernelspec": {
   "display_name": "Python 3",
   "language": "python",
   "name": "python3"
  },
  "language_info": {
   "codemirror_mode": {
    "name": "ipython",
    "version": 3
   },
   "file_extension": ".py",
   "mimetype": "text/x-python",
   "name": "python",
   "nbconvert_exporter": "python",
   "pygments_lexer": "ipython3",
   "version": "3.8.8"
  }
 },
 "nbformat": 4,
 "nbformat_minor": 4
}
