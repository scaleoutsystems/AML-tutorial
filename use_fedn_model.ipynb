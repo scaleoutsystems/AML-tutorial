{
 "cells": [
  {
   "cell_type": "markdown",
   "metadata": {},
   "source": [
    "## Evaluate a model from the FEDn model trail "
   ]
  },
  {
   "cell_type": "code",
   "execution_count": null,
   "metadata": {},
   "outputs": [],
   "source": [
    "import os\n",
    "import tensorflow as tf\n",
    "from stackn import stackn\n",
    "from fedn.utils.kerashelper import KerasHelper\n",
    "import tensorflow\n",
    "from client.models.AMLmodel import construct_model\n",
    "import sys\n",
    "# Before using tensorflow:\n",
    "import os\n",
    "os.environ['TF_FORCE_GPU_ALLOW_GROWTH'] = 'true'\n",
    "import tensorflow as tf\n",
    "import tensorflow.keras.backend as KB\n",
    "from matplotlib import pylab as plt\n",
    "import tensorflow.keras\n",
    "\n",
    "import pickle\n",
    "import numpy as np\n",
    "print(f\"Tensor Flow Version: {tf.__version__}\")\n",
    "print(f\"Keras Version: {tensorflow.keras.__version__}\")\n",
    "print()\n",
    "print(f\"Python {sys.version}\")\n",
    "\n",
    "gpu = len(tf.config.list_physical_devices('GPU'))>0\n",
    "print(\"GPU is\", \"available\" if gpu else \"NOT AVAILABLE\")"
   ]
  },
  {
   "cell_type": "markdown",
   "metadata": {},
   "source": [
    "## Load a given FEDn model version as a native Keras model "
   ]
  },
  {
   "cell_type": "code",
   "execution_count": null,
   "metadata": {},
   "outputs": [],
   "source": [
    "# This asssumes that we are storing the model trail in Studio Minio, \n",
    "# and that we have mounted the minio-vol volume when staring the lab session. \n",
    "model_id = 'f0d2ac17-7f6a-4275-9f3c-5c31c9f0e896'\n",
    "fedn_model = '/home/jovyan/work/minio-vol/fedn-models/{}'.format(model_id)\n",
    "helper = KerasHelper()\n",
    "weights = helper.load_model(fedn_model)\n",
    "model = construct_model()\n",
    "model.set_weights(weights)"
   ]
  },
  {
   "cell_type": "code",
   "execution_count": null,
   "metadata": {},
   "outputs": [],
   "source": [
    "import numpy as np\n",
    "from client.data.datagenerator import DataGenerator\n",
    "labels1 = np.load('dataset/processed/data_partitions/partition1/labels.npy', allow_pickle=True).item()\n",
    "data_path1 = 'dataset/processed/data_partitions/partition1/data_singlets'\n",
    "\n",
    "ids1 = [l for l in labels1]\n",
    "np.random.shuffle(ids1)\n",
    "\n",
    "test_gen = DataGenerator(ids1,labels1, data_path1, dim=(100,100), batch_size=32)\n",
    "labels, preds = test_gen.predict_all(model)\n",
    "np.sort([k for k in labels1])"
   ]
  },
  {
   "cell_type": "code",
   "execution_count": null,
   "metadata": {},
   "outputs": [],
   "source": [
    "def confusion_matrix(model, data_gen):\n",
    "    \n",
    "    labels, preds = data_gen.predict_all(model)\n",
    "\n",
    "    y_pred = np.argmax(preds,1)\n",
    "    y_data = np.argmax(labels,1)\n",
    "    M = np.zeros((16,16))\n",
    "\n",
    "    for pred_, true_ in zip(y_pred,y_data):\n",
    "        M[true_,pred_] +=1\n",
    "    \n",
    "    M[15,:15] = np.sum(M[:15,:15],0)\n",
    "    M[:15,15] = np.sum(M[:15,:15],1)\n",
    "    M[15,15] = np.sum(M[:15,:15])\n",
    "        \n",
    "    return M"
   ]
  },
  {
   "cell_type": "code",
   "execution_count": null,
   "metadata": {},
   "outputs": [],
   "source": [
    "import matplotlib\n",
    "from client.models.AMLmodel import classes as aml_classes\n",
    "\n",
    "class_names_y = [aml_classes[k] for k in aml_classes] + ['Total']\n",
    "class_names_x = [k for k in aml_classes] + ['Total']\n",
    "\n",
    "\n",
    "def plot_confusion_matrix(matrix, title='Confusion matrix', cmap=plt.cm.autumn):\n",
    "    \n",
    "    f, ax = plt.subplots(1,1,figsize=(20,14))\n",
    "    color_mat = np.zeros(matrix.shape)\n",
    "    color_mat[:15,:15] = matrix[:15,:15]/np.maximum(1,np.sum(matrix[:15,:15],0))\n",
    "    ax.matshow(color_mat, cmap=cmap, norm=matplotlib.colors.LogNorm()) \n",
    "\n",
    "    tick_mark = np.arange(16)\n",
    "    ax.set_xticks(tick_mark)\n",
    "    ax.set_yticks(tick_mark)\n",
    "\n",
    "    ax.set_xticklabels(class_names_x)\n",
    "    ax.set_yticklabels(class_names_y)\n",
    "    \n",
    "    for (i, j), z in np.ndenumerate(matrix):\n",
    "        \n",
    "        ax.text(j, i, '{:0.0f}'.format(z), ha='center', va='center')\n",
    "\n",
    "    ax.axvline(x=14.5,color='black',lw=5)\n",
    "    ax.axhline(y=14.5,color='black', lw=5)\n",
    "    ax.set_xlabel('Predicted class', fontsize=20)\n",
    "    ax.set_ylabel('True class', fontsize=20)\n",
    "\n",
    "M = confusion_matrix(model, test_gen)\n",
    "plot_confusion_matrix(M)\n",
    "plt.savefig('confusion_sample.png')"
   ]
  },
  {
   "cell_type": "code",
   "execution_count": null,
   "metadata": {},
   "outputs": [],
   "source": []
  }
 ],
 "metadata": {
  "kernelspec": {
   "display_name": "Python 3",
   "language": "python",
   "name": "python3"
  },
  "language_info": {
   "codemirror_mode": {
    "name": "ipython",
    "version": 3
   },
   "file_extension": ".py",
   "mimetype": "text/x-python",
   "name": "python",
   "nbconvert_exporter": "python",
   "pygments_lexer": "ipython3",
   "version": "3.8.8"
  }
 },
 "nbformat": 4,
 "nbformat_minor": 4
}
