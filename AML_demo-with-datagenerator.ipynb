{
 "cells": [
  {
   "cell_type": "code",
   "execution_count": 1,
   "metadata": {},
   "outputs": [
    {
     "name": "stdout",
     "output_type": "stream",
     "text": [
      "Tensor Flow Version: 2.3.2\n",
      "Keras Version: 2.4.0\n",
      "\n",
      "Python 3.8.8 | packaged by conda-forge | (default, Feb 20 2021, 16:22:27) \n",
      "[GCC 9.3.0]\n",
      "GPU is NOT AVAILABLE\n"
     ]
    }
   ],
   "source": [
    "import sys\n",
    "# Before using tensorflow:\n",
    "import os\n",
    "os.environ['TF_FORCE_GPU_ALLOW_GROWTH'] = 'true'\n",
    "import tensorflow as tf\n",
    "import tensorflow.keras.backend as KB\n",
    "from matplotlib import pylab as plt\n",
    "import tensorflow.keras\n",
    "#from tensorflow.python.framework.ops import disable_eager_execution\n",
    "#disable_eager_execution()\n",
    "\n",
    "import pickle\n",
    "import numpy as np\n",
    "print(f\"Tensor Flow Version: {tf.__version__}\")\n",
    "print(f\"Keras Version: {tensorflow.keras.__version__}\")\n",
    "print()\n",
    "print(f\"Python {sys.version}\")\n",
    "\n",
    "gpu = len(tf.config.list_physical_devices('GPU'))>0\n",
    "print(\"GPU is\", \"available\" if gpu else \"NOT AVAILABLE\")"
   ]
  },
  {
   "cell_type": "markdown",
   "metadata": {},
   "source": [
    "## Create model"
   ]
  },
  {
   "cell_type": "code",
   "execution_count": 3,
   "metadata": {},
   "outputs": [],
   "source": [
    "import tensorflow\n",
    "from client.models.AMLmodel import construct_model\n",
    "model = construct_model()"
   ]
  },
  {
   "cell_type": "code",
   "execution_count": 4,
   "metadata": {},
   "outputs": [
    {
     "name": "stdout",
     "output_type": "stream",
     "text": [
      "Model: \"sequential\"\n",
      "_________________________________________________________________\n",
      "Layer (type)                 Output Shape              Param #   \n",
      "=================================================================\n",
      "conv2d (Conv2D)              (None, 100, 100, 32)      1184      \n",
      "_________________________________________________________________\n",
      "activation (Activation)      (None, 100, 100, 32)      0         \n",
      "_________________________________________________________________\n",
      "conv2d_1 (Conv2D)            (None, 98, 98, 32)        9248      \n",
      "_________________________________________________________________\n",
      "activation_1 (Activation)    (None, 98, 98, 32)        0         \n",
      "_________________________________________________________________\n",
      "max_pooling2d (MaxPooling2D) (None, 49, 49, 32)        0         \n",
      "_________________________________________________________________\n",
      "dropout (Dropout)            (None, 49, 49, 32)        0         \n",
      "_________________________________________________________________\n",
      "conv2d_2 (Conv2D)            (None, 49, 49, 64)        18496     \n",
      "_________________________________________________________________\n",
      "activation_2 (Activation)    (None, 49, 49, 64)        0         \n",
      "_________________________________________________________________\n",
      "conv2d_3 (Conv2D)            (None, 47, 47, 64)        36928     \n",
      "_________________________________________________________________\n",
      "activation_3 (Activation)    (None, 47, 47, 64)        0         \n",
      "_________________________________________________________________\n",
      "max_pooling2d_1 (MaxPooling2 (None, 23, 23, 64)        0         \n",
      "_________________________________________________________________\n",
      "dropout_1 (Dropout)          (None, 23, 23, 64)        0         \n",
      "_________________________________________________________________\n",
      "flatten (Flatten)            (None, 33856)             0         \n",
      "_________________________________________________________________\n",
      "dense (Dense)                (None, 512)               17334784  \n",
      "_________________________________________________________________\n",
      "batch_normalization (BatchNo (None, 512)               2048      \n",
      "_________________________________________________________________\n",
      "activation_4 (Activation)    (None, 512)               0         \n",
      "_________________________________________________________________\n",
      "dropout_2 (Dropout)          (None, 512)               0         \n",
      "_________________________________________________________________\n",
      "dense_1 (Dense)              (None, 15)                7695      \n",
      "_________________________________________________________________\n",
      "activation_5 (Activation)    (None, 15)                0         \n",
      "=================================================================\n",
      "Total params: 17,410,383\n",
      "Trainable params: 17,409,359\n",
      "Non-trainable params: 1,024\n",
      "_________________________________________________________________\n"
     ]
    }
   ],
   "source": [
    "model.summary()"
   ]
  },
  {
   "cell_type": "markdown",
   "metadata": {},
   "source": [
    "## Load training data"
   ]
  },
  {
   "cell_type": "code",
   "execution_count": 9,
   "metadata": {},
   "outputs": [],
   "source": [
    "import numpy as np\n",
    "labels = np.load('dataset/processed/data_partitions/partition0/labels.npy', allow_pickle=True).item()"
   ]
  },
  {
   "cell_type": "code",
   "execution_count": 10,
   "metadata": {},
   "outputs": [],
   "source": [
    "ids = [l for l in labels]"
   ]
  },
  {
   "cell_type": "code",
   "execution_count": 11,
   "metadata": {},
   "outputs": [],
   "source": [
    "from client.data.datagenerator import DataGenerator"
   ]
  },
  {
   "cell_type": "code",
   "execution_count": 12,
   "metadata": {},
   "outputs": [],
   "source": [
    "data_path = 'dataset/processed/data_partitions/partition0/data_singlets'\n",
    "train_gen = DataGenerator(ids,labels, data_path, dim=(100,100), batch_size=32)"
   ]
  },
  {
   "cell_type": "code",
   "execution_count": 13,
   "metadata": {},
   "outputs": [
    {
     "name": "stdout",
     "output_type": "stream",
     "text": [
      "Epoch 1/20\n",
      "19/19 [==============================] - 13s 691ms/step - loss: 1.8217 - accuracy: 0.5033\n",
      "Epoch 2/20\n",
      "19/19 [==============================] - 13s 681ms/step - loss: 1.1908 - accuracy: 0.6727\n",
      "Epoch 3/20\n",
      "19/19 [==============================] - 13s 668ms/step - loss: 0.8457 - accuracy: 0.7138\n",
      "Epoch 4/20\n",
      "19/19 [==============================] - 13s 667ms/step - loss: 0.6792 - accuracy: 0.7812\n",
      "Epoch 5/20\n",
      "19/19 [==============================] - 13s 672ms/step - loss: 0.5368 - accuracy: 0.7977\n",
      "Epoch 6/20\n",
      "19/19 [==============================] - 13s 670ms/step - loss: 0.3980 - accuracy: 0.8618\n",
      "Epoch 7/20\n",
      "19/19 [==============================] - 13s 662ms/step - loss: 0.2727 - accuracy: 0.9145\n",
      "Epoch 8/20\n",
      "19/19 [==============================] - 13s 682ms/step - loss: 0.2075 - accuracy: 0.9293\n",
      "Epoch 9/20\n",
      "19/19 [==============================] - 13s 669ms/step - loss: 0.1119 - accuracy: 0.9622\n",
      "Epoch 10/20\n",
      "19/19 [==============================] - 13s 667ms/step - loss: 0.0886 - accuracy: 0.9737\n",
      "Epoch 11/20\n",
      "19/19 [==============================] - 13s 674ms/step - loss: 0.0695 - accuracy: 0.9803\n",
      "Epoch 12/20\n",
      "19/19 [==============================] - 13s 671ms/step - loss: 0.0586 - accuracy: 0.9901\n",
      "Epoch 13/20\n",
      "19/19 [==============================] - 13s 663ms/step - loss: 0.0377 - accuracy: 0.9934\n",
      "Epoch 14/20\n",
      "19/19 [==============================] - 13s 685ms/step - loss: 0.0237 - accuracy: 0.9984\n",
      "Epoch 15/20\n",
      "19/19 [==============================] - 13s 665ms/step - loss: 0.0227 - accuracy: 0.9967\n",
      "Epoch 16/20\n",
      "19/19 [==============================] - 13s 663ms/step - loss: 0.0197 - accuracy: 0.9984\n",
      "Epoch 17/20\n",
      "19/19 [==============================] - 12s 656ms/step - loss: 0.0225 - accuracy: 0.9967\n",
      "Epoch 18/20\n",
      "19/19 [==============================] - 13s 673ms/step - loss: 0.0239 - accuracy: 0.9984\n",
      "Epoch 19/20\n",
      "19/19 [==============================] - 13s 668ms/step - loss: 0.0364 - accuracy: 0.9885\n",
      "Epoch 20/20\n",
      "19/19 [==============================] - 13s 674ms/step - loss: 0.0261 - accuracy: 0.9967\n"
     ]
    },
    {
     "data": {
      "text/plain": [
       "<tensorflow.python.keras.callbacks.History at 0x7f4fb0049910>"
      ]
     },
     "execution_count": 13,
     "metadata": {},
     "output_type": "execute_result"
    }
   ],
   "source": [
    "model.fit(train_gen,epochs=20)"
   ]
  },
  {
   "cell_type": "markdown",
   "metadata": {},
   "source": [
    "## Train model"
   ]
  },
  {
   "cell_type": "code",
   "execution_count": 11,
   "metadata": {},
   "outputs": [
    {
     "ename": "AttributeError",
     "evalue": "'Sequential' object has no attribute 'classification_report'",
     "output_type": "error",
     "traceback": [
      "\u001b[0;31m---------------------------------------------------------------------------\u001b[0m",
      "\u001b[0;31mAttributeError\u001b[0m                            Traceback (most recent call last)",
      "\u001b[0;32m<ipython-input-11-5a380af9a2aa>\u001b[0m in \u001b[0;36m<module>\u001b[0;34m\u001b[0m\n\u001b[0;32m----> 1\u001b[0;31m \u001b[0mreport\u001b[0m \u001b[0;34m=\u001b[0m \u001b[0mmodel\u001b[0m\u001b[0;34m.\u001b[0m\u001b[0mclassification_report\u001b[0m\u001b[0;34m(\u001b[0m\u001b[0mx_test\u001b[0m\u001b[0;34m,\u001b[0m\u001b[0my_test\u001b[0m\u001b[0;34m)\u001b[0m\u001b[0;34m\u001b[0m\u001b[0;34m\u001b[0m\u001b[0m\n\u001b[0m\u001b[1;32m      2\u001b[0m \u001b[0mprint\u001b[0m\u001b[0;34m(\u001b[0m\u001b[0mreport\u001b[0m\u001b[0;34m)\u001b[0m\u001b[0;34m\u001b[0m\u001b[0;34m\u001b[0m\u001b[0m\n",
      "\u001b[0;31mAttributeError\u001b[0m: 'Sequential' object has no attribute 'classification_report'"
     ]
    }
   ],
   "source": [
    "report = model.classification_report(x_test,y_test)\n",
    "print(report)"
   ]
  },
  {
   "cell_type": "code",
   "execution_count": null,
   "metadata": {},
   "outputs": [],
   "source": [
    "report = model.classification_report(x_test,y_test)\n",
    "print(report)"
   ]
  },
  {
   "cell_type": "code",
   "execution_count": null,
   "metadata": {},
   "outputs": [],
   "source": [
    "np.argmax(y_test,1)\n",
    "np.unique(np.argmax(y_test,1),return_counts=True)"
   ]
  },
  {
   "cell_type": "code",
   "execution_count": 14,
   "metadata": {},
   "outputs": [
    {
     "ename": "AttributeError",
     "evalue": "'Sequential' object has no attribute 'confusion_matrix'",
     "output_type": "error",
     "traceback": [
      "\u001b[0;31m---------------------------------------------------------------------------\u001b[0m",
      "\u001b[0;31mAttributeError\u001b[0m                            Traceback (most recent call last)",
      "\u001b[0;32m<ipython-input-14-40cff2e6ed07>\u001b[0m in \u001b[0;36m<module>\u001b[0;34m\u001b[0m\n\u001b[1;32m      1\u001b[0m \u001b[0;32mfrom\u001b[0m \u001b[0mmatplotlib\u001b[0m \u001b[0;32mimport\u001b[0m \u001b[0mpylab\u001b[0m \u001b[0;32mas\u001b[0m \u001b[0mplt\u001b[0m\u001b[0;34m\u001b[0m\u001b[0;34m\u001b[0m\u001b[0m\n\u001b[1;32m      2\u001b[0m \u001b[0;32mimport\u001b[0m \u001b[0mitertools\u001b[0m\u001b[0;34m\u001b[0m\u001b[0;34m\u001b[0m\u001b[0m\n\u001b[0;32m----> 3\u001b[0;31m \u001b[0mM\u001b[0m \u001b[0;34m=\u001b[0m \u001b[0mmodel\u001b[0m\u001b[0;34m.\u001b[0m\u001b[0mconfusion_matrix\u001b[0m\u001b[0;34m(\u001b[0m\u001b[0mx_test\u001b[0m\u001b[0;34m,\u001b[0m\u001b[0my_test\u001b[0m\u001b[0;34m)\u001b[0m\u001b[0;34m\u001b[0m\u001b[0;34m\u001b[0m\u001b[0m\n\u001b[0m\u001b[1;32m      4\u001b[0m \u001b[0mM\u001b[0m \u001b[0;34m=\u001b[0m \u001b[0mnp\u001b[0m\u001b[0;34m.\u001b[0m\u001b[0mint32\u001b[0m\u001b[0;34m(\u001b[0m\u001b[0mM\u001b[0m\u001b[0;34m[\u001b[0m\u001b[0;34m:\u001b[0m\u001b[0;36m15\u001b[0m\u001b[0;34m,\u001b[0m\u001b[0;34m:\u001b[0m\u001b[0;36m15\u001b[0m\u001b[0;34m]\u001b[0m\u001b[0;34m)\u001b[0m\u001b[0;34m\u001b[0m\u001b[0;34m\u001b[0m\u001b[0m\n\u001b[1;32m      5\u001b[0m \u001b[0mprint\u001b[0m\u001b[0;34m(\u001b[0m\u001b[0mM\u001b[0m\u001b[0;34m)\u001b[0m\u001b[0;34m\u001b[0m\u001b[0;34m\u001b[0m\u001b[0m\n",
      "\u001b[0;31mAttributeError\u001b[0m: 'Sequential' object has no attribute 'confusion_matrix'"
     ]
    }
   ],
   "source": [
    "from matplotlib import pylab as plt\n",
    "import itertools\n",
    "M = model.confusion_matrix(x_test,y_test)\n",
    "M = np.int32(M[:15,:15])\n",
    "print(M)\n",
    "print(\"----\")\n",
    "print(np.sum(M,1))\n",
    "print(\"----\")\n",
    "M = (M.T/np.sum(M,1)).T\n",
    "\n",
    "print(M)\n",
    "\n",
    "f, ax = plt.subplots(1,1,figsize=(15,15))\n",
    "ax.imshow(M,cmap='Purples')\n",
    "\n",
    "# Major ticks\n",
    "ax.set_xticks(np.arange(0, 15, 1));\n",
    "ax.set_yticks(np.arange(0, 15, 1));\n",
    "\n",
    "# Labels for major ticks\n",
    "ax.set_xticklabels(np.arange(1, 15, 1));\n",
    "ax.set_yticklabels(np.arange(1, 15, 1));\n",
    "\n",
    "# Minor ticks\n",
    "ax.set_xticks(np.arange(-.5, 14, 1), minor=True);\n",
    "ax.set_yticks(np.arange(-.5, 14, 1), minor=True);\n",
    "\n",
    "ax.grid(which='minor', color='black', linestyle='-', linewidth=2)\n",
    "\n",
    "\n",
    "ax.set_xlabel('Predictions')\n",
    "ax.set_ylabel('Truth')\n",
    "upper_thresh = 0.5\n",
    "format(M[i, j], '.2f')\n",
    "for i,j in itertools.product(range(15),range(15)):\n",
    "    ax.text(j, i, format(M[i, j], '.2f'), horizontalalignment=\"center\", fontsize=20,\n",
    "                 color=\"white\" if (M[i, j] > upper_thresh ) else \"black\")\n",
    "\n",
    "plt.show()"
   ]
  },
  {
   "cell_type": "code",
   "execution_count": null,
   "metadata": {},
   "outputs": [],
   "source": [
    "from matplotlib import pylab as plt\n",
    "import itertools\n",
    "M = model.confusion_matrix(x_test,y_test)\n",
    "M = np.int32(M[:15,:15])\n",
    "\n",
    "M = (M.T/np.sum(M,1)).T\n",
    "\n",
    "\n",
    "f, ax = plt.subplots(1,1,figsize=(15,15))\n",
    "ax.imshow(M,cmap='Purples')\n",
    "\n",
    "# Major ticks\n",
    "ax.set_xticks(np.arange(0, 15, 1));\n",
    "ax.set_yticks(np.arange(0, 15, 1));\n",
    "\n",
    "# Labels for major ticks\n",
    "ax.set_xticklabels(np.arange(1, 15, 1));\n",
    "ax.set_yticklabels(np.arange(1, 15, 1));\n",
    "\n",
    "# Minor ticks\n",
    "ax.set_xticks(np.arange(-.5, 14, 1), minor=True);\n",
    "ax.set_yticks(np.arange(-.5, 14, 1), minor=True);\n",
    "\n",
    "ax.grid(which='minor', color='black', linestyle='-', linewidth=2)\n",
    "\n",
    "\n",
    "ax.set_xlabel('Predictions')\n",
    "ax.set_ylabel('Truth')\n",
    "upper_thresh = 0.5\n",
    "format(M[i, j], '.2f')\n",
    "for i,j in itertools.product(range(15),range(15)):\n",
    "    ax.text(j, i, format(M[i, j], '.2f'), horizontalalignment=\"center\", fontsize=20,\n",
    "                 color=\"white\" if (M[i, j] > upper_thresh ) else \"black\")\n",
    "\n",
    "plt.show()"
   ]
  },
  {
   "cell_type": "code",
   "execution_count": null,
   "metadata": {},
   "outputs": [],
   "source": [
    "y_pred = model.model.predict_classes(x_test)\n",
    "y_test_ = np.argmax(y_test,1)"
   ]
  },
  {
   "cell_type": "code",
   "execution_count": null,
   "metadata": {},
   "outputs": [],
   "source": [
    "print(y_pred.shape)\n",
    "print(y_test_.shape)\n",
    "\n",
    "for pred_, true_ in zip(y_pred,y_test_):\n",
    "    print(pred_, \" - \", true_)"
   ]
  }
 ],
 "metadata": {
  "kernelspec": {
   "display_name": "Python 3",
   "language": "python",
   "name": "python3"
  },
  "language_info": {
   "codemirror_mode": {
    "name": "ipython",
    "version": 3
   },
   "file_extension": ".py",
   "mimetype": "text/x-python",
   "name": "python",
   "nbconvert_exporter": "python",
   "pygments_lexer": "ipython3",
   "version": "3.8.8"
  }
 },
 "nbformat": 4,
 "nbformat_minor": 4
}
