{
 "cells": [
  {
   "cell_type": "code",
   "execution_count": 1,
   "metadata": {},
   "outputs": [
    {
     "name": "stdout",
     "output_type": "stream",
     "text": [
      "Tensor Flow Version: 2.4.1\n",
      "Keras Version: 2.4.0\n",
      "\n",
      "Python 3.8.5 (default, May 27 2021, 13:30:53) \n",
      "[GCC 9.3.0]\n",
      "GPU is available\n"
     ]
    }
   ],
   "source": [
    "import sys\n",
    "# Before using tensorflow:\n",
    "import os\n",
    "os.environ['TF_FORCE_GPU_ALLOW_GROWTH'] = 'true'\n",
    "import tensorflow as tf\n",
    "import tensorflow.keras.backend as KB\n",
    "from matplotlib import pylab as plt\n",
    "import tensorflow.keras\n",
    "#from tensorflow.python.framework.ops import disable_eager_execution\n",
    "#disable_eager_execution()\n",
    "\n",
    "import pickle\n",
    "import numpy as np\n",
    "print(f\"Tensor Flow Version: {tf.__version__}\")\n",
    "print(f\"Keras Version: {tensorflow.keras.__version__}\")\n",
    "print()\n",
    "print(f\"Python {sys.version}\")\n",
    "\n",
    "gpu = len(tf.config.list_physical_devices('GPU'))>0\n",
    "print(\"GPU is\", \"available\" if gpu else \"NOT AVAILABLE\")\n"
   ]
  },
  {
   "cell_type": "markdown",
   "metadata": {},
   "source": [
    "## Create model"
   ]
  },
  {
   "cell_type": "code",
   "execution_count": 2,
   "metadata": {},
   "outputs": [],
   "source": [
    "import tensorflow\n",
    "from client.models.AMLmodel import AMLModel, construct_model\n",
    "\n",
    "#model = AMLModel()\n",
    "model = construct_model()"
   ]
  },
  {
   "cell_type": "code",
   "execution_count": 3,
   "metadata": {},
   "outputs": [
    {
     "name": "stdout",
     "output_type": "stream",
     "text": [
      "Model: \"sequential\"\n",
      "_________________________________________________________________\n",
      "Layer (type)                 Output Shape              Param #   \n",
      "=================================================================\n",
      "conv2d (Conv2D)              (None, 98, 98, 32)        1184      \n",
      "_________________________________________________________________\n",
      "activation (Activation)      (None, 98, 98, 32)        0         \n",
      "_________________________________________________________________\n",
      "conv2d_1 (Conv2D)            (None, 96, 96, 32)        9248      \n",
      "_________________________________________________________________\n",
      "activation_1 (Activation)    (None, 96, 96, 32)        0         \n",
      "_________________________________________________________________\n",
      "max_pooling2d (MaxPooling2D) (None, 48, 48, 32)        0         \n",
      "_________________________________________________________________\n",
      "dropout (Dropout)            (None, 48, 48, 32)        0         \n",
      "_________________________________________________________________\n",
      "conv2d_2 (Conv2D)            (None, 46, 46, 64)        18496     \n",
      "_________________________________________________________________\n",
      "activation_2 (Activation)    (None, 46, 46, 64)        0         \n",
      "_________________________________________________________________\n",
      "conv2d_3 (Conv2D)            (None, 44, 44, 64)        36928     \n",
      "_________________________________________________________________\n",
      "activation_3 (Activation)    (None, 44, 44, 64)        0         \n",
      "_________________________________________________________________\n",
      "max_pooling2d_1 (MaxPooling2 (None, 22, 22, 64)        0         \n",
      "_________________________________________________________________\n",
      "dropout_1 (Dropout)          (None, 22, 22, 64)        0         \n",
      "_________________________________________________________________\n",
      "flatten (Flatten)            (None, 30976)             0         \n",
      "_________________________________________________________________\n",
      "dense (Dense)                (None, 512)               15860224  \n",
      "_________________________________________________________________\n",
      "batch_normalization (BatchNo (None, 512)               2048      \n",
      "_________________________________________________________________\n",
      "activation_4 (Activation)    (None, 512)               0         \n",
      "_________________________________________________________________\n",
      "dropout_2 (Dropout)          (None, 512)               0         \n",
      "_________________________________________________________________\n",
      "dense_1 (Dense)              (None, 15)                7695      \n",
      "_________________________________________________________________\n",
      "activation_5 (Activation)    (None, 15)                0         \n",
      "=================================================================\n",
      "Total params: 15,935,823\n",
      "Trainable params: 15,934,799\n",
      "Non-trainable params: 1,024\n",
      "_________________________________________________________________\n"
     ]
    }
   ],
   "source": [
    "model.summary()"
   ]
  },
  {
   "cell_type": "markdown",
   "metadata": {},
   "source": [
    "## Load training data"
   ]
  },
  {
   "cell_type": "code",
   "execution_count": 14,
   "metadata": {},
   "outputs": [],
   "source": [
    "import numpy as np\n",
    "from client.data.datagenerator import DataGenerator\n",
    "labels0 = np.load('dataset/processed/data_partitions/partition0/labels.npy', allow_pickle=True).item()\n",
    "\n",
    "data_path0 = 'dataset/processed/data_partitions/partition0/data_singlets'\n",
    "\n",
    "ids0 = [l for l in labels0]\n",
    "np.random.shuffle(ids)\n",
    "train_split_index = int(len(ids0)*0.9)\n",
    "train_ids = ids0[:train_split_index]\n",
    "val_ids = ids0[train_split_index:]\n",
    "\n",
    "train_gen = DataGenerator(train_ids,labels0, data_path0, dim=(100,100), batch_size=32)\n",
    "val_gen = DataGenerator(val_ids,labels0, data_path0, dim=(100,100), batch_size=32)"
   ]
  },
  {
   "cell_type": "markdown",
   "metadata": {},
   "source": [
    "## Train model\n",
    "Replace the trained model with some global model trained federated in fedn"
   ]
  },
  {
   "cell_type": "code",
   "execution_count": 15,
   "metadata": {
    "scrolled": true
   },
   "outputs": [
    {
     "name": "stdout",
     "output_type": "stream",
     "text": [
      "Epoch 1/20\n",
      "51/51 [==============================] - 1s 14ms/step - loss: 0.1417 - accuracy: 0.9596 - val_loss: 0.7998 - val_accuracy: 0.8313\n",
      "Epoch 2/20\n",
      "51/51 [==============================] - 1s 13ms/step - loss: 0.0754 - accuracy: 0.9786 - val_loss: 0.4719 - val_accuracy: 0.8813\n",
      "Epoch 3/20\n",
      "51/51 [==============================] - 1s 14ms/step - loss: 0.0623 - accuracy: 0.9804 - val_loss: 0.3987 - val_accuracy: 0.8938\n",
      "Epoch 4/20\n",
      "51/51 [==============================] - 1s 14ms/step - loss: 0.0487 - accuracy: 0.9847 - val_loss: 0.4011 - val_accuracy: 0.9312\n",
      "Epoch 5/20\n",
      "51/51 [==============================] - 1s 14ms/step - loss: 0.0242 - accuracy: 0.9933 - val_loss: 0.1620 - val_accuracy: 0.9563\n",
      "Epoch 6/20\n",
      "51/51 [==============================] - 1s 14ms/step - loss: 0.0188 - accuracy: 0.9957 - val_loss: 0.2086 - val_accuracy: 0.9438\n",
      "Epoch 7/20\n",
      "51/51 [==============================] - 1s 14ms/step - loss: 0.0174 - accuracy: 0.9969 - val_loss: 0.1798 - val_accuracy: 0.9750\n",
      "Epoch 8/20\n",
      "51/51 [==============================] - 1s 14ms/step - loss: 0.0181 - accuracy: 0.9963 - val_loss: 0.1869 - val_accuracy: 0.9688\n",
      "Epoch 9/20\n",
      "51/51 [==============================] - 1s 14ms/step - loss: 0.0211 - accuracy: 0.9933 - val_loss: 0.9839 - val_accuracy: 0.7250\n",
      "Epoch 10/20\n",
      "51/51 [==============================] - 1s 14ms/step - loss: 0.0255 - accuracy: 0.9926 - val_loss: 0.4189 - val_accuracy: 0.9062\n",
      "Epoch 11/20\n",
      "51/51 [==============================] - 1s 15ms/step - loss: 0.0219 - accuracy: 0.9945 - val_loss: 0.1296 - val_accuracy: 0.9812\n",
      "Epoch 12/20\n",
      "51/51 [==============================] - 1s 14ms/step - loss: 0.0126 - accuracy: 0.9982 - val_loss: 0.1479 - val_accuracy: 0.9688\n",
      "Epoch 13/20\n",
      "51/51 [==============================] - 1s 14ms/step - loss: 0.0087 - accuracy: 1.0000 - val_loss: 0.1198 - val_accuracy: 0.9563\n",
      "Epoch 14/20\n",
      "51/51 [==============================] - 1s 14ms/step - loss: 0.0279 - accuracy: 0.9926 - val_loss: 0.4596 - val_accuracy: 0.8375\n",
      "Epoch 15/20\n",
      "51/51 [==============================] - 1s 14ms/step - loss: 0.0404 - accuracy: 0.9847 - val_loss: 0.2738 - val_accuracy: 0.9438\n",
      "Epoch 16/20\n",
      "51/51 [==============================] - 1s 14ms/step - loss: 0.0262 - accuracy: 0.9957 - val_loss: 0.1920 - val_accuracy: 0.9750\n",
      "Epoch 17/20\n",
      "51/51 [==============================] - 1s 14ms/step - loss: 0.0164 - accuracy: 0.9963 - val_loss: 0.2578 - val_accuracy: 0.9438\n",
      "Epoch 18/20\n",
      "51/51 [==============================] - 1s 14ms/step - loss: 0.0105 - accuracy: 0.9975 - val_loss: 0.2106 - val_accuracy: 0.9000\n",
      "Epoch 19/20\n",
      "51/51 [==============================] - 1s 14ms/step - loss: 0.0123 - accuracy: 0.9975 - val_loss: 0.4178 - val_accuracy: 0.9187\n",
      "Epoch 20/20\n",
      "51/51 [==============================] - 1s 14ms/step - loss: 0.0103 - accuracy: 0.9982 - val_loss: 0.4265 - val_accuracy: 0.9062\n"
     ]
    }
   ],
   "source": [
    "model.fit(train_gen, validation_data=val_gen, epochs=20)\n",
    "model_json = model.to_json()\n",
    "f = open('model.json', 'w')\n",
    "f.write(model_json)\n",
    "f.close()\n",
    "model.save_weights('model_weights.h5')"
   ]
  },
  {
   "cell_type": "code",
   "execution_count": null,
   "metadata": {},
   "outputs": [],
   "source": [
    "model = tensorflow.keras.models.load_model('MLmodel.hdf5')"
   ]
  },
  {
   "cell_type": "code",
   "execution_count": 20,
   "metadata": {},
   "outputs": [
    {
     "data": {
      "text/plain": [
       "array(['BAS_0006', 'BAS_0007', 'BAS_0009', ..., 'PMO_0016', 'PMO_0049',\n",
       "       'PMO_0061'], dtype='<U8')"
      ]
     },
     "execution_count": 20,
     "metadata": {},
     "output_type": "execute_result"
    }
   ],
   "source": [
    "np.sort([k for k in labels0])"
   ]
  },
  {
   "cell_type": "code",
   "execution_count": 21,
   "metadata": {},
   "outputs": [
    {
     "ename": "NameError",
     "evalue": "name 'labels1' is not defined",
     "output_type": "error",
     "traceback": [
      "\u001b[0;31m---------------------------------------------------------------------------\u001b[0m",
      "\u001b[0;31mNameError\u001b[0m                                 Traceback (most recent call last)",
      "\u001b[0;32m<ipython-input-21-ca934eb7a8df>\u001b[0m in \u001b[0;36m<module>\u001b[0;34m\u001b[0m\n\u001b[0;32m----> 1\u001b[0;31m \u001b[0mnp\u001b[0m\u001b[0;34m.\u001b[0m\u001b[0msort\u001b[0m\u001b[0;34m(\u001b[0m\u001b[0;34m[\u001b[0m\u001b[0mk\u001b[0m \u001b[0;32mfor\u001b[0m \u001b[0mk\u001b[0m \u001b[0;32min\u001b[0m \u001b[0mlabels1\u001b[0m\u001b[0;34m]\u001b[0m\u001b[0;34m)\u001b[0m\u001b[0;34m\u001b[0m\u001b[0;34m\u001b[0m\u001b[0m\n\u001b[0m",
      "\u001b[0;31mNameError\u001b[0m: name 'labels1' is not defined"
     ]
    }
   ],
   "source": [
    "np.sort([k for k in labels1])"
   ]
  },
  {
   "cell_type": "markdown",
   "metadata": {},
   "source": [
    "# Results\n",
    "We are using partition1 as testset to evaluate the model."
   ]
  },
  {
   "cell_type": "code",
   "execution_count": 25,
   "metadata": {},
   "outputs": [],
   "source": [
    "labels1 = np.load('dataset/processed/data_partitions/partition2/labels.npy', allow_pickle=True).item()\n",
    "\n",
    "data_path1 = 'dataset/processed/data_partitions/partition2/data_singlets'\n",
    "\n",
    "ids1 = [l for l in labels1]\n",
    "np.random.shuffle(ids1)\n",
    "\n",
    "test_gen = DataGenerator(ids1,labels1, data_path1, dim=(100,100), batch_size=32)\n",
    "\n",
    "labels, preds = test_gen.predict_all(model)"
   ]
  },
  {
   "cell_type": "code",
   "execution_count": 26,
   "metadata": {},
   "outputs": [],
   "source": [
    "def confusion_matrix(model, data_gen):\n",
    "    \n",
    "    labels, preds = data_gen.predict_all(model)\n",
    "\n",
    "    y_pred = np.argmax(preds,1)\n",
    "    y_data = np.argmax(labels,1)\n",
    "    M = np.zeros((16,16))\n",
    "\n",
    "    for pred_, true_ in zip(y_pred,y_data):\n",
    "        M[true_,pred_] +=1\n",
    "    \n",
    "    M[15,:15] = np.sum(M[:15,:15],0)\n",
    "    M[:15,15] = np.sum(M[:15,:15],1)\n",
    "    M[15,15] = np.sum(M[:15,:15])\n",
    "        \n",
    "    return M"
   ]
  },
  {
   "cell_type": "code",
   "execution_count": 29,
   "metadata": {},
   "outputs": [
    {
     "data": {
      "image/png": "[encoded data removed]",
      "text/plain": [
       "<Figure size 1440x1008 with 1 Axes>"
      ]
     },
     "metadata": {
      "needs_background": "light"
     },
     "output_type": "display_data"
    }
   ],
   "source": [
    "import matplotlib\n",
    "from client.models.AMLmodel import classes as aml_classes\n",
    "\n",
    "class_names_y = [aml_classes[k] for k in aml_classes] + ['Total']\n",
    "class_names_x = [k for k in aml_classes] + ['Total']\n",
    "\n",
    "\n",
    "def plot_confusion_matrix(matrix, title='Confusion matrix', cmap=plt.cm.autumn):\n",
    "    \n",
    "    f, ax = plt.subplots(1,1,figsize=(20,14))\n",
    "    color_mat = np.zeros(matrix.shape)\n",
    "    color_mat[:15,:15] = matrix[:15,:15]/np.maximum(1,np.sum(matrix[:15,:15],0))\n",
    "    ax.matshow(color_mat, cmap=cmap, norm=matplotlib.colors.LogNorm()) \n",
    "\n",
    "    tick_mark = np.arange(16)\n",
    "    ax.set_xticks(tick_mark)\n",
    "    ax.set_yticks(tick_mark)\n",
    "\n",
    "    ax.set_xticklabels(class_names_x)\n",
    "    ax.set_yticklabels(class_names_y)\n",
    "    \n",
    "    for (i, j), z in np.ndenumerate(matrix):\n",
    "        \n",
    "        ax.text(j, i, '{:0.0f}'.format(z), ha='center', va='center')\n",
    "\n",
    "    ax.axvline(x=14.5,color='black',lw=5)\n",
    "    ax.axhline(y=14.5,color='black', lw=5)\n",
    "    ax.set_xlabel('Predicted class', fontsize=20)\n",
    "    ax.set_ylabel('True class', fontsize=20)\n",
    "\n",
    "M = confusion_matrix(model, test_gen)\n",
    "plot_confusion_matrix(M)\n",
    "plt.savefig('confusion_sample.png')"
   ]
  },
  {
   "cell_type": "code",
   "execution_count": null,
   "metadata": {},
   "outputs": [],
   "source": []
  }
 ],
 "metadata": {
  "kernelspec": {
   "display_name": "Python 3",
   "language": "python",
   "name": "python3"
  },
  "language_info": {
   "codemirror_mode": {
    "name": "ipython",
    "version": 3
   },
   "file_extension": ".py",
   "mimetype": "text/x-python",
   "name": "python",
   "nbconvert_exporter": "python",
   "pygments_lexer": "ipython3",
   "version": "3.8.5"
  }
 },
 "nbformat": 4,
 "nbformat_minor": 4
}
