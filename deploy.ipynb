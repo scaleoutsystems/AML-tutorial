{
 "cells": [
  {
   "cell_type": "markdown",
   "metadata": {},
   "source": [
    "## Package model for deployment"
   ]
  },
  {
   "cell_type": "code",
   "execution_count": 64,
   "metadata": {},
   "outputs": [],
   "source": []
  },
  {
   "cell_type": "code",
   "execution_count": 1,
   "metadata": {},
   "outputs": [
    {
     "name": "stdout",
     "output_type": "stream",
     "text": [
      "Tensor Flow Version: 2.3.2\n",
      "Keras Version: 2.4.0\n",
      "\n",
      "Python 3.8.8 | packaged by conda-forge | (default, Feb 20 2021, 16:22:27) \n",
      "[GCC 9.3.0]\n",
      "GPU is NOT AVAILABLE\n"
     ]
    }
   ],
   "source": [
    "import os\n",
    "import tensorflow as tf\n",
    "from stackn import stackn\n",
    "from fedn.utils.kerashelper import KerasHelper\n",
    "import tensorflow\n",
    "from client.models.AMLmodel import construct_model\n",
    "import sys\n",
    "# Before using tensorflow:\n",
    "import os\n",
    "os.environ['TF_FORCE_GPU_ALLOW_GROWTH'] = 'true'\n",
    "import tensorflow as tf\n",
    "import tensorflow.keras.backend as KB\n",
    "from matplotlib import pylab as plt\n",
    "import tensorflow.keras\n",
    "#from tensorflow.python.framework.ops import disable_eager_execution\n",
    "#disable_eager_execution()\n",
    "\n",
    "import pickle\n",
    "import numpy as np\n",
    "print(f\"Tensor Flow Version: {tf.__version__}\")\n",
    "print(f\"Keras Version: {tensorflow.keras.__version__}\")\n",
    "print()\n",
    "print(f\"Python {sys.version}\")\n",
    "\n",
    "gpu = len(tf.config.list_physical_devices('GPU'))>0\n",
    "print(\"GPU is\", \"available\" if gpu else \"NOT AVAILABLE\")"
   ]
  },
  {
   "cell_type": "markdown",
   "metadata": {},
   "source": [
    "## Load STACKn API"
   ]
  },
  {
   "cell_type": "code",
   "execution_count": 2,
   "metadata": {},
   "outputs": [],
   "source": [
    "model_id = 'c03c2743-e44c-4f5e-987b-e2d0bbc125d7'\n",
    "fedn_model = '/home/jovyan/work/minio-vol/fedn-models/{}'.format(model_id)\n",
    "helper = KerasHelper()\n",
    "weights = helper.load_model(fedn_model)\n",
    "model = construct_model()\n",
    "model.set_weights(weights)"
   ]
  },
  {
   "cell_type": "code",
   "execution_count": 3,
   "metadata": {},
   "outputs": [],
   "source": [
    "import numpy as np\n",
    "from client.data.datagenerator import DataGenerator\n",
    "labels1 = np.load('dataset/processed/data_partitions/partition2/labels.npy', allow_pickle=True).item()\n",
    "data_path1 = 'dataset/processed/data_partitions/partition2/data_singlets'\n",
    "\n",
    "ids1 = [l for l in labels1]\n",
    "np.random.shuffle(ids1)\n",
    "\n",
    "test_gen = DataGenerator(ids1,labels1, data_path1, dim=(100,100), batch_size=32)\n",
    "labels, preds = test_gen.predict_all(model)"
   ]
  },
  {
   "cell_type": "code",
   "execution_count": 4,
   "metadata": {},
   "outputs": [
    {
     "data": {
      "text/plain": [
       "array(['BAS_0009', 'EBO_0011', 'EBO_0063', 'EBO_0067', 'EBO_0077',\n",
       "       'EOS_0015', 'EOS_0045', 'EOS_0083', 'EOS_0096', 'EOS_0117',\n",
       "       'EOS_0144', 'EOS_0192', 'EOS_0195', 'EOS_0203', 'EOS_0229',\n",
       "       'EOS_0265', 'EOS_0268', 'EOS_0279', 'EOS_0303', 'EOS_0339',\n",
       "       'EOS_0344', 'KSC_0009', 'LYA_0006', 'LYT_0044', 'LYT_0062',\n",
       "       'LYT_0113', 'LYT_0142', 'LYT_0152', 'LYT_0193', 'LYT_0200',\n",
       "       'LYT_0211', 'LYT_0231', 'LYT_0236', 'LYT_0246', 'LYT_0320',\n",
       "       'LYT_0392', 'LYT_0396', 'LYT_0477', 'LYT_0482', 'LYT_0497',\n",
       "       'LYT_0503', 'LYT_0534', 'LYT_0547', 'LYT_0557', 'LYT_0570',\n",
       "       'LYT_0596', 'LYT_0617', 'LYT_0637', 'LYT_0690', 'LYT_0770',\n",
       "       'LYT_0795', 'LYT_0817', 'LYT_0822', 'LYT_0844', 'LYT_0878',\n",
       "       'LYT_0901', 'LYT_0904', 'LYT_0971', 'LYT_0978', 'LYT_0986',\n",
       "       'LYT_1064', 'LYT_1069', 'LYT_1076', 'LYT_1081', 'LYT_1110',\n",
       "       'LYT_1132', 'LYT_1150', 'LYT_1237', 'LYT_1249', 'LYT_1253',\n",
       "       'LYT_1269', 'LYT_1290', 'LYT_1321', 'LYT_1334', 'LYT_1342',\n",
       "       'LYT_1369', 'LYT_1444', 'LYT_1475', 'LYT_1497', 'LYT_1514',\n",
       "       'LYT_1536', 'LYT_1563', 'LYT_1581', 'LYT_1593', 'LYT_1650',\n",
       "       'LYT_1653', 'LYT_1723', 'LYT_1741', 'LYT_1783', 'LYT_1784',\n",
       "       'LYT_1818', 'LYT_1836', 'LYT_1850', 'LYT_1882', 'LYT_1886',\n",
       "       'LYT_1959', 'LYT_1967', 'LYT_2025', 'LYT_2041', 'LYT_2125',\n",
       "       'LYT_2208', 'LYT_2227', 'LYT_2245', 'LYT_2265', 'LYT_2270',\n",
       "       'LYT_2284', 'LYT_2303', 'LYT_2375', 'LYT_2381', 'LYT_2409',\n",
       "       'LYT_2502', 'LYT_2519', 'LYT_2564', 'LYT_2585', 'LYT_2586',\n",
       "       'LYT_2587', 'LYT_2589', 'LYT_2605', 'LYT_2607', 'LYT_2628',\n",
       "       'LYT_2677', 'LYT_2708', 'LYT_2733', 'LYT_2831', 'LYT_2908',\n",
       "       'LYT_2918', 'LYT_2938', 'LYT_2964', 'LYT_3033', 'LYT_3043',\n",
       "       'LYT_3060', 'LYT_3088', 'LYT_3093', 'LYT_3156', 'LYT_3180',\n",
       "       'LYT_3193', 'LYT_3322', 'LYT_3323', 'LYT_3416', 'LYT_3423',\n",
       "       'LYT_3431', 'LYT_3436', 'LYT_3459', 'LYT_3474', 'LYT_3480',\n",
       "       'LYT_3491', 'LYT_3528', 'LYT_3530', 'LYT_3550', 'LYT_3601',\n",
       "       'LYT_3624', 'LYT_3634', 'LYT_3653', 'LYT_3656', 'LYT_3728',\n",
       "       'LYT_3734', 'LYT_3757', 'LYT_3843', 'LYT_3848', 'MOB_0011',\n",
       "       'MOB_0022', 'MON_0019', 'MON_0082', 'MON_0092', 'MON_0094',\n",
       "       'MON_0096', 'MON_0168', 'MON_0206', 'MON_0250', 'MON_0278',\n",
       "       'MON_0322', 'MON_0323', 'MON_0369', 'MON_0402', 'MON_0512',\n",
       "       'MON_0546', 'MON_0551', 'MON_0561', 'MON_0599', 'MON_0602',\n",
       "       'MON_0623', 'MON_0626', 'MON_0707', 'MON_0713', 'MON_0717',\n",
       "       'MON_0721', 'MON_0740', 'MON_0769', 'MON_0900', 'MON_0932',\n",
       "       'MON_0940', 'MON_0992', 'MON_1024', 'MON_1025', 'MON_1037',\n",
       "       'MON_1179', 'MON_1332', 'MON_1386', 'MON_1422', 'MON_1450',\n",
       "       'MON_1481', 'MON_1526', 'MON_1530', 'MON_1546', 'MON_1548',\n",
       "       'MON_1549', 'MON_1558', 'MON_1614', 'MON_1636', 'MON_1644',\n",
       "       'MON_1651', 'MON_1718', 'MON_1720', 'MON_1722', 'MON_1757',\n",
       "       'MON_1786', 'MYB_0034', 'MYO_0067', 'MYO_0100', 'MYO_0191',\n",
       "       'MYO_0213', 'MYO_0250', 'MYO_0328', 'MYO_0333', 'MYO_0395',\n",
       "       'MYO_0441', 'MYO_0473', 'MYO_0508', 'MYO_0523', 'MYO_0558',\n",
       "       'MYO_0564', 'MYO_0571', 'MYO_0647', 'MYO_0674', 'MYO_0678',\n",
       "       'MYO_0703', 'MYO_0760', 'MYO_0766', 'MYO_0775', 'MYO_0791',\n",
       "       'MYO_0796', 'MYO_0829', 'MYO_0909', 'MYO_0915', 'MYO_0950',\n",
       "       'MYO_0951', 'MYO_0985', 'MYO_0988', 'MYO_1018', 'MYO_1047',\n",
       "       'MYO_1057', 'MYO_1081', 'MYO_1091', 'MYO_1120', 'MYO_1145',\n",
       "       'MYO_1176', 'MYO_1178', 'MYO_1235', 'MYO_1293', 'MYO_1343',\n",
       "       'MYO_1359', 'MYO_1383', 'MYO_1404', 'MYO_1414', 'MYO_1427',\n",
       "       'MYO_1464', 'MYO_1513', 'MYO_1519', 'MYO_1521', 'MYO_1544',\n",
       "       'MYO_1565', 'MYO_1574', 'MYO_1621', 'MYO_1635', 'MYO_1638',\n",
       "       'MYO_1664', 'MYO_1677', 'MYO_1680', 'MYO_1786', 'MYO_1797',\n",
       "       'MYO_1800', 'MYO_1822', 'MYO_1824', 'MYO_1910', 'MYO_1936',\n",
       "       'MYO_1945', 'MYO_1953', 'MYO_1998', 'MYO_2002', 'MYO_2047',\n",
       "       'MYO_2090', 'MYO_2096', 'MYO_2110', 'MYO_2144', 'MYO_2159',\n",
       "       'MYO_2194', 'MYO_2253', 'MYO_2271', 'MYO_2328', 'MYO_2341',\n",
       "       'MYO_2347', 'MYO_2348', 'MYO_2351', 'MYO_2359', 'MYO_2403',\n",
       "       'MYO_2405', 'MYO_2487', 'MYO_2491', 'MYO_2500', 'MYO_2505',\n",
       "       'MYO_2513', 'MYO_2569', 'MYO_2692', 'MYO_2732', 'MYO_2753',\n",
       "       'MYO_2756', 'MYO_2773', 'MYO_2793', 'MYO_2829', 'MYO_2835',\n",
       "       'MYO_2843', 'MYO_2853', 'MYO_2880', 'MYO_2888', 'MYO_2917',\n",
       "       'MYO_2924', 'MYO_2964', 'MYO_2979', 'MYO_2984', 'MYO_2985',\n",
       "       'MYO_3016', 'MYO_3031', 'MYO_3047', 'MYO_3092', 'MYO_3112',\n",
       "       'MYO_3150', 'MYO_3161', 'MYO_3168', 'MYO_3184', 'MYO_3199',\n",
       "       'MYO_3212', 'MYO_3216', 'MYO_3228', 'MYO_3251', 'NGB_0006',\n",
       "       'NGB_0023', 'NGB_0033', 'NGB_0062', 'NGB_0073', 'NGB_0088',\n",
       "       'NGS_0015', 'NGS_0035', 'NGS_0047', 'NGS_0068', 'NGS_0076',\n",
       "       'NGS_0243', 'NGS_0326', 'NGS_0329', 'NGS_0389', 'NGS_0398',\n",
       "       'NGS_0434', 'NGS_0518', 'NGS_0579', 'NGS_0602', 'NGS_0642',\n",
       "       'NGS_0662', 'NGS_0699', 'NGS_0711', 'NGS_0713', 'NGS_0721',\n",
       "       'NGS_0740', 'NGS_0750', 'NGS_0760', 'NGS_0781', 'NGS_0783',\n",
       "       'NGS_0915', 'NGS_0947', 'NGS_1013', 'NGS_1072', 'NGS_1101',\n",
       "       'NGS_1107', 'NGS_1242', 'NGS_1255', 'NGS_1292', 'NGS_1333',\n",
       "       'NGS_1341', 'NGS_1351', 'NGS_1362', 'NGS_1365', 'NGS_1370',\n",
       "       'NGS_1385', 'NGS_1423', 'NGS_1436', 'NGS_1453', 'NGS_1463',\n",
       "       'NGS_1533', 'NGS_1556', 'NGS_1675', 'NGS_1723', 'NGS_1756',\n",
       "       'NGS_1758', 'NGS_1765', 'NGS_1804', 'NGS_1825', 'NGS_1851',\n",
       "       'NGS_1856', 'NGS_1976', 'NGS_2035', 'NGS_2050', 'NGS_2065',\n",
       "       'NGS_2074', 'NGS_2091', 'NGS_2130', 'NGS_2139', 'NGS_2159',\n",
       "       'NGS_2181', 'NGS_2249', 'NGS_2253', 'NGS_2278', 'NGS_2311',\n",
       "       'NGS_2352', 'NGS_2370', 'NGS_2427', 'NGS_2482', 'NGS_2566',\n",
       "       'NGS_2590', 'NGS_2626', 'NGS_2670', 'NGS_2691', 'NGS_2693',\n",
       "       'NGS_2722', 'NGS_2725', 'NGS_2747', 'NGS_2798', 'NGS_2804',\n",
       "       'NGS_2861', 'NGS_2924', 'NGS_2947', 'NGS_2968', 'NGS_2985',\n",
       "       'NGS_3126', 'NGS_3164', 'NGS_3171', 'NGS_3177', 'NGS_3219',\n",
       "       'NGS_3236', 'NGS_3301', 'NGS_3336', 'NGS_3414', 'NGS_3523',\n",
       "       'NGS_3551', 'NGS_3561', 'NGS_3576', 'NGS_3588', 'NGS_3731',\n",
       "       'NGS_3739', 'NGS_3769', 'NGS_3784', 'NGS_3808', 'NGS_3815',\n",
       "       'NGS_3816', 'NGS_3860', 'NGS_3898', 'NGS_3910', 'NGS_3932',\n",
       "       'NGS_3944', 'NGS_3978', 'NGS_4023', 'NGS_4128', 'NGS_4134',\n",
       "       'NGS_4156', 'NGS_4161', 'NGS_4195', 'NGS_4219', 'NGS_4273',\n",
       "       'NGS_4340', 'NGS_4355', 'NGS_4389', 'NGS_4408', 'NGS_4416',\n",
       "       'NGS_4434', 'NGS_4438', 'NGS_4456', 'NGS_4467', 'NGS_4488',\n",
       "       'NGS_4512', 'NGS_4684', 'NGS_4690', 'NGS_4756', 'NGS_4795',\n",
       "       'NGS_4813', 'NGS_4827', 'NGS_4835', 'NGS_4850', 'NGS_4881',\n",
       "       'NGS_4981', 'NGS_4987', 'NGS_5005', 'NGS_5014', 'NGS_5038',\n",
       "       'NGS_5042', 'NGS_5053', 'NGS_5105', 'NGS_5108', 'NGS_5116',\n",
       "       'NGS_5165', 'NGS_5173', 'NGS_5201', 'NGS_5220', 'NGS_5325',\n",
       "       'NGS_5493', 'NGS_5530', 'NGS_5541', 'NGS_5545', 'NGS_5623',\n",
       "       'NGS_5634', 'NGS_5637', 'NGS_5651', 'NGS_5708', 'NGS_5721',\n",
       "       'NGS_5921', 'NGS_5968', 'NGS_5998', 'NGS_6019', 'NGS_6027',\n",
       "       'NGS_6083', 'NGS_6114', 'NGS_6126', 'NGS_6138', 'NGS_6150',\n",
       "       'NGS_6153', 'NGS_6187', 'NGS_6198', 'NGS_6212', 'NGS_6285',\n",
       "       'NGS_6294', 'NGS_6311', 'NGS_6315', 'NGS_6366', 'NGS_6387',\n",
       "       'NGS_6466', 'NGS_6469', 'NGS_6494', 'NGS_6498', 'NGS_6516',\n",
       "       'NGS_6593', 'NGS_6595', 'NGS_6616', 'NGS_6624', 'NGS_6632',\n",
       "       'NGS_6686', 'NGS_6729', 'NGS_6807', 'NGS_6827', 'NGS_6845',\n",
       "       'NGS_6914', 'NGS_6941', 'NGS_6978', 'NGS_6996', 'NGS_7009',\n",
       "       'NGS_7029', 'NGS_7073', 'NGS_7082', 'NGS_7131', 'NGS_7134',\n",
       "       'NGS_7142', 'NGS_7159', 'NGS_7201', 'NGS_7214', 'NGS_7225',\n",
       "       'NGS_7230', 'NGS_7329', 'NGS_7341', 'NGS_7368', 'NGS_7376',\n",
       "       'NGS_7380', 'NGS_7381', 'NGS_7393', 'NGS_7398', 'NGS_7462',\n",
       "       'NGS_7509', 'NGS_7520', 'NGS_7581', 'NGS_7631', 'NGS_7633',\n",
       "       'NGS_7648', 'NGS_7662', 'NGS_7700', 'NGS_7715', 'NGS_7781',\n",
       "       'NGS_7791', 'NGS_7812', 'NGS_7940', 'NGS_7954', 'NGS_7985',\n",
       "       'NGS_8039', 'NGS_8054', 'NGS_8058', 'NGS_8082', 'NGS_8190',\n",
       "       'NGS_8203', 'NGS_8233', 'NGS_8234', 'NGS_8303', 'NGS_8373',\n",
       "       'NGS_8390', 'NGS_8428', 'NGS_8480', 'PMO_0015', 'PMO_0033',\n",
       "       'PMO_0054', 'PMO_0058'], dtype='<U8')"
      ]
     },
     "execution_count": 4,
     "metadata": {},
     "output_type": "execute_result"
    }
   ],
   "source": [
    "np.sort([k for k in labels1])"
   ]
  },
  {
   "cell_type": "code",
   "execution_count": 5,
   "metadata": {},
   "outputs": [],
   "source": [
    "def confusion_matrix(model, data_gen):\n",
    "    \n",
    "    labels, preds = data_gen.predict_all(model)\n",
    "\n",
    "    y_pred = np.argmax(preds,1)\n",
    "    y_data = np.argmax(labels,1)\n",
    "    M = np.zeros((16,16))\n",
    "\n",
    "    for pred_, true_ in zip(y_pred,y_data):\n",
    "        M[true_,pred_] +=1\n",
    "    \n",
    "    M[15,:15] = np.sum(M[:15,:15],0)\n",
    "    M[:15,15] = np.sum(M[:15,:15],1)\n",
    "    M[15,15] = np.sum(M[:15,:15])\n",
    "        \n",
    "    return M"
   ]
  },
  {
   "cell_type": "code",
   "execution_count": 6,
   "metadata": {},
   "outputs": [
    {
     "data": {
      "image/png": "[encoded data removed]",
      "text/plain": [
       "<Figure size 1440x1008 with 1 Axes>"
      ]
     },
     "metadata": {
      "needs_background": "light"
     },
     "output_type": "display_data"
    }
   ],
   "source": [
    "import matplotlib\n",
    "from client.models.AMLmodel import classes as aml_classes\n",
    "\n",
    "class_names_y = [aml_classes[k] for k in aml_classes] + ['Total']\n",
    "class_names_x = [k for k in aml_classes] + ['Total']\n",
    "\n",
    "\n",
    "def plot_confusion_matrix(matrix, title='Confusion matrix', cmap=plt.cm.autumn):\n",
    "    \n",
    "    f, ax = plt.subplots(1,1,figsize=(20,14))\n",
    "    color_mat = np.zeros(matrix.shape)\n",
    "    color_mat[:15,:15] = matrix[:15,:15]/np.maximum(1,np.sum(matrix[:15,:15],0))\n",
    "    ax.matshow(color_mat, cmap=cmap, norm=matplotlib.colors.LogNorm()) \n",
    "\n",
    "    tick_mark = np.arange(16)\n",
    "    ax.set_xticks(tick_mark)\n",
    "    ax.set_yticks(tick_mark)\n",
    "\n",
    "    ax.set_xticklabels(class_names_x)\n",
    "    ax.set_yticklabels(class_names_y)\n",
    "    \n",
    "    for (i, j), z in np.ndenumerate(matrix):\n",
    "        \n",
    "        ax.text(j, i, '{:0.0f}'.format(z), ha='center', va='center')\n",
    "\n",
    "    ax.axvline(x=14.5,color='black',lw=5)\n",
    "    ax.axhline(y=14.5,color='black', lw=5)\n",
    "    ax.set_xlabel('Predicted class', fontsize=20)\n",
    "    ax.set_ylabel('True class', fontsize=20)\n",
    "\n",
    "M = confusion_matrix(model, test_gen)\n",
    "plot_confusion_matrix(M)\n",
    "plt.savefig('confusion_sample.png')"
   ]
  },
  {
   "cell_type": "code",
   "execution_count": null,
   "metadata": {},
   "outputs": [],
   "source": []
  },
  {
   "cell_type": "code",
   "execution_count": null,
   "metadata": {},
   "outputs": [],
   "source": []
  },
  {
   "cell_type": "code",
   "execution_count": null,
   "metadata": {},
   "outputs": [],
   "source": []
  }
 ],
 "metadata": {
  "kernelspec": {
   "display_name": "Python 3",
   "language": "python",
   "name": "python3"
  },
  "language_info": {
   "codemirror_mode": {
    "name": "ipython",
    "version": 3
   },
   "file_extension": ".py",
   "mimetype": "text/x-python",
   "name": "python",
   "nbconvert_exporter": "python",
   "pygments_lexer": "ipython3",
   "version": "3.8.8"
  }
 },
 "nbformat": 4,
 "nbformat_minor": 4
}
