{
 "cells": [
  {
   "cell_type": "code",
   "execution_count": 36,
   "metadata": {},
   "outputs": [
    {
     "name": "stdout",
     "output_type": "stream",
     "text": [
      "Tensor Flow Version: 2.3.2\n",
      "Keras Version: 2.4.0\n",
      "\n",
      "Python 3.8.8 | packaged by conda-forge | (default, Feb 20 2021, 16:22:27) \n",
      "[GCC 9.3.0]\n",
      "GPU is NOT AVAILABLE\n"
     ]
    }
   ],
   "source": [
    "import sys\n",
    "# Before using tensorflow:\n",
    "import os\n",
    "os.environ['TF_FORCE_GPU_ALLOW_GROWTH'] = 'true'\n",
    "import tensorflow as tf\n",
    "import tensorflow.keras.backend as KB\n",
    "from matplotlib import pylab as plt\n",
    "import tensorflow.keras\n",
    "#from tensorflow.python.framework.ops import disable_eager_execution\n",
    "#disable_eager_execution()\n",
    "\n",
    "import pickle\n",
    "import numpy as np\n",
    "print(f\"Tensor Flow Version: {tf.__version__}\")\n",
    "print(f\"Keras Version: {tensorflow.keras.__version__}\")\n",
    "print()\n",
    "print(f\"Python {sys.version}\")\n",
    "\n",
    "gpu = len(tf.config.list_physical_devices('GPU'))>0\n",
    "print(\"GPU is\", \"available\" if gpu else \"NOT AVAILABLE\")\n"
   ]
  },
  {
   "cell_type": "markdown",
   "metadata": {},
   "source": [
    "## Create model"
   ]
  },
  {
   "cell_type": "code",
   "execution_count": 37,
   "metadata": {},
   "outputs": [],
   "source": [
    "import tensorflow\n",
    "from client.models.AMLmodel import construct_model\n",
    "\n",
    "model = construct_model()"
   ]
  },
  {
   "cell_type": "code",
   "execution_count": 38,
   "metadata": {},
   "outputs": [
    {
     "name": "stdout",
     "output_type": "stream",
     "text": [
      "Model: \"sequential_3\"\n",
      "_________________________________________________________________\n",
      "Layer (type)                 Output Shape              Param #   \n",
      "=================================================================\n",
      "conv2d_12 (Conv2D)           (None, 100, 100, 32)      1184      \n",
      "_________________________________________________________________\n",
      "activation_18 (Activation)   (None, 100, 100, 32)      0         \n",
      "_________________________________________________________________\n",
      "conv2d_13 (Conv2D)           (None, 98, 98, 32)        9248      \n",
      "_________________________________________________________________\n",
      "activation_19 (Activation)   (None, 98, 98, 32)        0         \n",
      "_________________________________________________________________\n",
      "max_pooling2d_6 (MaxPooling2 (None, 49, 49, 32)        0         \n",
      "_________________________________________________________________\n",
      "dropout_9 (Dropout)          (None, 49, 49, 32)        0         \n",
      "_________________________________________________________________\n",
      "conv2d_14 (Conv2D)           (None, 49, 49, 64)        18496     \n",
      "_________________________________________________________________\n",
      "activation_20 (Activation)   (None, 49, 49, 64)        0         \n",
      "_________________________________________________________________\n",
      "conv2d_15 (Conv2D)           (None, 47, 47, 64)        36928     \n",
      "_________________________________________________________________\n",
      "activation_21 (Activation)   (None, 47, 47, 64)        0         \n",
      "_________________________________________________________________\n",
      "max_pooling2d_7 (MaxPooling2 (None, 23, 23, 64)        0         \n",
      "_________________________________________________________________\n",
      "dropout_10 (Dropout)         (None, 23, 23, 64)        0         \n",
      "_________________________________________________________________\n",
      "flatten_3 (Flatten)          (None, 33856)             0         \n",
      "_________________________________________________________________\n",
      "dense_6 (Dense)              (None, 512)               17334784  \n",
      "_________________________________________________________________\n",
      "batch_normalization_3 (Batch (None, 512)               2048      \n",
      "_________________________________________________________________\n",
      "activation_22 (Activation)   (None, 512)               0         \n",
      "_________________________________________________________________\n",
      "dropout_11 (Dropout)         (None, 512)               0         \n",
      "_________________________________________________________________\n",
      "dense_7 (Dense)              (None, 15)                7695      \n",
      "_________________________________________________________________\n",
      "activation_23 (Activation)   (None, 15)                0         \n",
      "=================================================================\n",
      "Total params: 17,410,383\n",
      "Trainable params: 17,409,359\n",
      "Non-trainable params: 1,024\n",
      "_________________________________________________________________\n"
     ]
    }
   ],
   "source": [
    "model.summary()"
   ]
  },
  {
   "cell_type": "markdown",
   "metadata": {},
   "source": [
    "## Load training data"
   ]
  },
  {
   "cell_type": "code",
   "execution_count": 39,
   "metadata": {},
   "outputs": [],
   "source": [
    "import numpy as np\n",
    "from client.data.datagenerator import DataGenerator\n",
    "labels0 = np.load('dataset/processed/data_partitions/partition0/labels.npy', allow_pickle=True).item()\n",
    "\n",
    "data_path0 = 'dataset/processed/data_partitions/partition0/data_singlets'\n",
    "\n",
    "ids0 = [l for l in labels0]\n",
    "np.random.shuffle(ids)\n",
    "train_split_index = int(len(ids0)*0.9)\n",
    "train_ids = ids0[:train_split_index]\n",
    "val_ids = ids0[train_split_index:]\n",
    "\n",
    "train_gen = DataGenerator(train_ids,labels0, data_path0, dim=(100,100), batch_size=32)\n",
    "val_gen = DataGenerator(val_ids,labels0, data_path0, dim=(100,100), batch_size=32)"
   ]
  },
  {
   "cell_type": "markdown",
   "metadata": {},
   "source": [
    "## Train model\n",
    "Replace the trained model with some global model trained federated in fedn"
   ]
  },
  {
   "cell_type": "code",
   "execution_count": 40,
   "metadata": {
    "scrolled": true
   },
   "outputs": [
    {
     "name": "stdout",
     "output_type": "stream",
     "text": [
      "Epoch 1/20\n",
      "17/17 [==============================] - 12s 684ms/step - loss: 1.7516 - accuracy: 0.5294 - val_loss: 1.8982 - val_accuracy: 0.5000\n",
      "Epoch 2/20\n",
      "17/17 [==============================] - 12s 695ms/step - loss: 1.0967 - accuracy: 0.6893 - val_loss: 0.9672 - val_accuracy: 0.7188\n",
      "Epoch 3/20\n",
      "17/17 [==============================] - 11s 665ms/step - loss: 0.7583 - accuracy: 0.7776 - val_loss: 0.8964 - val_accuracy: 0.6562\n",
      "Epoch 4/20\n",
      "17/17 [==============================] - 11s 672ms/step - loss: 0.6176 - accuracy: 0.7776 - val_loss: 1.7889 - val_accuracy: 0.4375\n",
      "Epoch 5/20\n",
      "17/17 [==============================] - 11s 670ms/step - loss: 0.4174 - accuracy: 0.8548 - val_loss: 1.5595 - val_accuracy: 0.6875\n",
      "Epoch 6/20\n",
      "17/17 [==============================] - 11s 666ms/step - loss: 0.3055 - accuracy: 0.8989 - val_loss: 0.9286 - val_accuracy: 0.6875\n",
      "Epoch 7/20\n",
      "17/17 [==============================] - 11s 675ms/step - loss: 0.2295 - accuracy: 0.9173 - val_loss: 0.8871 - val_accuracy: 0.8125\n",
      "Epoch 8/20\n",
      "17/17 [==============================] - 11s 675ms/step - loss: 0.2511 - accuracy: 0.9118 - val_loss: 1.4374 - val_accuracy: 0.6250\n",
      "Epoch 9/20\n",
      "17/17 [==============================] - 11s 666ms/step - loss: 0.1482 - accuracy: 0.9577 - val_loss: 0.9700 - val_accuracy: 0.8125\n",
      "Epoch 10/20\n",
      "17/17 [==============================] - 12s 685ms/step - loss: 0.1115 - accuracy: 0.9577 - val_loss: 1.1628 - val_accuracy: 0.7500\n",
      "Epoch 11/20\n",
      "17/17 [==============================] - 11s 675ms/step - loss: 0.1194 - accuracy: 0.9559 - val_loss: 0.9888 - val_accuracy: 0.8125\n",
      "Epoch 12/20\n",
      "17/17 [==============================] - 11s 675ms/step - loss: 0.0841 - accuracy: 0.9816 - val_loss: 1.0906 - val_accuracy: 0.7188\n",
      "Epoch 13/20\n",
      "17/17 [==============================] - 11s 669ms/step - loss: 0.1251 - accuracy: 0.9669 - val_loss: 1.0518 - val_accuracy: 0.6875\n",
      "Epoch 14/20\n",
      "17/17 [==============================] - 11s 671ms/step - loss: 0.1223 - accuracy: 0.9596 - val_loss: 0.8654 - val_accuracy: 0.8438\n",
      "Epoch 15/20\n",
      "17/17 [==============================] - 12s 685ms/step - loss: 0.0710 - accuracy: 0.9798 - val_loss: 0.3646 - val_accuracy: 0.9688\n",
      "Epoch 16/20\n",
      "17/17 [==============================] - 12s 677ms/step - loss: 0.0508 - accuracy: 0.9871 - val_loss: 0.9917 - val_accuracy: 0.8438\n",
      "Epoch 17/20\n",
      "17/17 [==============================] - 11s 672ms/step - loss: 0.0333 - accuracy: 0.9945 - val_loss: 0.5885 - val_accuracy: 0.9062\n",
      "Epoch 18/20\n",
      "17/17 [==============================] - 11s 673ms/step - loss: 0.0533 - accuracy: 0.9890 - val_loss: 0.8111 - val_accuracy: 0.8438\n",
      "Epoch 19/20\n",
      "17/17 [==============================] - 11s 666ms/step - loss: 0.0283 - accuracy: 0.9982 - val_loss: 0.6751 - val_accuracy: 0.8750\n",
      "Epoch 20/20\n",
      "17/17 [==============================] - 11s 672ms/step - loss: 0.0269 - accuracy: 0.9908 - val_loss: 0.7312 - val_accuracy: 0.7812\n"
     ]
    },
    {
     "data": {
      "text/plain": [
       "<tensorflow.python.keras.callbacks.History at 0x7f6f843d25b0>"
      ]
     },
     "execution_count": 40,
     "metadata": {},
     "output_type": "execute_result"
    }
   ],
   "source": [
    "model.fit(train_gen, validation_data=val_gen, epochs=20)"
   ]
  },
  {
   "cell_type": "code",
   "execution_count": 41,
   "metadata": {},
   "outputs": [
    {
     "data": {
      "text/plain": [
       "array(['EBO_0016', 'EBO_0018', 'EBO_0053', 'EOS_0012', 'EOS_0033',\n",
       "       'EOS_0076', 'EOS_0092', 'EOS_0219', 'EOS_0225', 'EOS_0230',\n",
       "       'EOS_0240', 'EOS_0262', 'EOS_0273', 'EOS_0285', 'EOS_0323',\n",
       "       'EOS_0350', 'LYT_0001', 'LYT_0009', 'LYT_0042', 'LYT_0098',\n",
       "       'LYT_0108', 'LYT_0185', 'LYT_0202', 'LYT_0218', 'LYT_0267',\n",
       "       'LYT_0271', 'LYT_0355', 'LYT_0372', 'LYT_0397', 'LYT_0406',\n",
       "       'LYT_0426', 'LYT_0441', 'LYT_0465', 'LYT_0502', 'LYT_0504',\n",
       "       'LYT_0607', 'LYT_0627', 'LYT_0680', 'LYT_0725', 'LYT_0750',\n",
       "       'LYT_0867', 'LYT_0941', 'LYT_0954', 'LYT_1013', 'LYT_1209',\n",
       "       'LYT_1250', 'LYT_1289', 'LYT_1486', 'LYT_1506', 'LYT_1507',\n",
       "       'LYT_1531', 'LYT_1565', 'LYT_1725', 'LYT_1733', 'LYT_1753',\n",
       "       'LYT_1775', 'LYT_1873', 'LYT_1878', 'LYT_1898', 'LYT_1931',\n",
       "       'LYT_1982', 'LYT_2004', 'LYT_2028', 'LYT_2063', 'LYT_2122',\n",
       "       'LYT_2126', 'LYT_2157', 'LYT_2175', 'LYT_2207', 'LYT_2266',\n",
       "       'LYT_2272', 'LYT_2299', 'LYT_2307', 'LYT_2317', 'LYT_2327',\n",
       "       'LYT_2361', 'LYT_2394', 'LYT_2462', 'LYT_2476', 'LYT_2508',\n",
       "       'LYT_2523', 'LYT_2530', 'LYT_2541', 'LYT_2544', 'LYT_2551',\n",
       "       'LYT_2592', 'LYT_2606', 'LYT_2617', 'LYT_2701', 'LYT_2711',\n",
       "       'LYT_2725', 'LYT_2810', 'LYT_2813', 'LYT_2873', 'LYT_2893',\n",
       "       'LYT_2932', 'LYT_2973', 'LYT_2975', 'LYT_2991', 'LYT_3083',\n",
       "       'LYT_3097', 'LYT_3099', 'LYT_3144', 'LYT_3161', 'LYT_3171',\n",
       "       'LYT_3174', 'LYT_3175', 'LYT_3222', 'LYT_3250', 'LYT_3299',\n",
       "       'LYT_3314', 'LYT_3330', 'LYT_3339', 'LYT_3346', 'LYT_3354',\n",
       "       'LYT_3367', 'LYT_3427', 'LYT_3441', 'LYT_3463', 'LYT_3514',\n",
       "       'LYT_3558', 'LYT_3616', 'LYT_3632', 'LYT_3639', 'LYT_3815',\n",
       "       'LYT_3821', 'LYT_3853', 'LYT_3877', 'LYT_3888', 'MMZ_0001',\n",
       "       'MOB_0012', 'MON_0034', 'MON_0074', 'MON_0185', 'MON_0243',\n",
       "       'MON_0361', 'MON_0365', 'MON_0371', 'MON_0404', 'MON_0415',\n",
       "       'MON_0420', 'MON_0427', 'MON_0472', 'MON_0473', 'MON_0477',\n",
       "       'MON_0504', 'MON_0519', 'MON_0526', 'MON_0612', 'MON_0627',\n",
       "       'MON_0645', 'MON_0652', 'MON_0666', 'MON_0670', 'MON_0696',\n",
       "       'MON_0718', 'MON_0743', 'MON_0815', 'MON_0829', 'MON_0877',\n",
       "       'MON_0909', 'MON_0933', 'MON_0958', 'MON_0968', 'MON_0982',\n",
       "       'MON_1005', 'MON_1023', 'MON_1063', 'MON_1065', 'MON_1076',\n",
       "       'MON_1081', 'MON_1106', 'MON_1136', 'MON_1213', 'MON_1220',\n",
       "       'MON_1228', 'MON_1245', 'MON_1257', 'MON_1297', 'MON_1351',\n",
       "       'MON_1383', 'MON_1423', 'MON_1428', 'MON_1459', 'MON_1471',\n",
       "       'MON_1480', 'MON_1482', 'MON_1560', 'MON_1577', 'MON_1634',\n",
       "       'MON_1683', 'MON_1686', 'MON_1716', 'MON_1727', 'MON_1769',\n",
       "       'MON_1771', 'MON_1777', 'MYB_0024', 'MYO_0045', 'MYO_0137',\n",
       "       'MYO_0184', 'MYO_0199', 'MYO_0210', 'MYO_0224', 'MYO_0277',\n",
       "       'MYO_0279', 'MYO_0288', 'MYO_0380', 'MYO_0400', 'MYO_0403',\n",
       "       'MYO_0413', 'MYO_0443', 'MYO_0457', 'MYO_0507', 'MYO_0535',\n",
       "       'MYO_0556', 'MYO_0568', 'MYO_0581', 'MYO_0589', 'MYO_0591',\n",
       "       'MYO_0598', 'MYO_0651', 'MYO_0665', 'MYO_0675', 'MYO_0701',\n",
       "       'MYO_0706', 'MYO_0721', 'MYO_0809', 'MYO_0822', 'MYO_0917',\n",
       "       'MYO_0935', 'MYO_0942', 'MYO_0993', 'MYO_0994', 'MYO_0995',\n",
       "       'MYO_1003', 'MYO_1046', 'MYO_1069', 'MYO_1085', 'MYO_1106',\n",
       "       'MYO_1107', 'MYO_1127', 'MYO_1133', 'MYO_1147', 'MYO_1159',\n",
       "       'MYO_1161', 'MYO_1181', 'MYO_1272', 'MYO_1285', 'MYO_1342',\n",
       "       'MYO_1424', 'MYO_1437', 'MYO_1441', 'MYO_1486', 'MYO_1536',\n",
       "       'MYO_1556', 'MYO_1568', 'MYO_1576', 'MYO_1582', 'MYO_1598',\n",
       "       'MYO_1607', 'MYO_1630', 'MYO_1634', 'MYO_1693', 'MYO_1703',\n",
       "       'MYO_1741', 'MYO_1743', 'MYO_1816', 'MYO_1848', 'MYO_1861',\n",
       "       'MYO_1886', 'MYO_2029', 'MYO_2036', 'MYO_2046', 'MYO_2059',\n",
       "       'MYO_2079', 'MYO_2138', 'MYO_2156', 'MYO_2171', 'MYO_2190',\n",
       "       'MYO_2278', 'MYO_2287', 'MYO_2339', 'MYO_2342', 'MYO_2343',\n",
       "       'MYO_2374', 'MYO_2390', 'MYO_2442', 'MYO_2445', 'MYO_2467',\n",
       "       'MYO_2529', 'MYO_2534', 'MYO_2560', 'MYO_2646', 'MYO_2718',\n",
       "       'MYO_2720', 'MYO_2724', 'MYO_2742', 'MYO_2755', 'MYO_2783',\n",
       "       'MYO_2799', 'MYO_2881', 'MYO_2896', 'MYO_2986', 'MYO_2991',\n",
       "       'MYO_3026', 'MYO_3028', 'MYO_3070', 'MYO_3103', 'MYO_3109',\n",
       "       'MYO_3126', 'MYO_3149', 'MYO_3163', 'MYO_3178', 'MYO_3232',\n",
       "       'NGB_0007', 'NGB_0028', 'NGB_0090', 'NGS_0018', 'NGS_0055',\n",
       "       'NGS_0060', 'NGS_0064', 'NGS_0090', 'NGS_0113', 'NGS_0127',\n",
       "       'NGS_0128', 'NGS_0143', 'NGS_0162', 'NGS_0179', 'NGS_0274',\n",
       "       'NGS_0290', 'NGS_0306', 'NGS_0331', 'NGS_0350', 'NGS_0383',\n",
       "       'NGS_0436', 'NGS_0445', 'NGS_0477', 'NGS_0506', 'NGS_0531',\n",
       "       'NGS_0550', 'NGS_0607', 'NGS_0625', 'NGS_0683', 'NGS_0714',\n",
       "       'NGS_0846', 'NGS_0852', 'NGS_0914', 'NGS_0918', 'NGS_0941',\n",
       "       'NGS_0975', 'NGS_1001', 'NGS_1005', 'NGS_1055', 'NGS_1056',\n",
       "       'NGS_1068', 'NGS_1069', 'NGS_1104', 'NGS_1116', 'NGS_1139',\n",
       "       'NGS_1146', 'NGS_1202', 'NGS_1208', 'NGS_1235', 'NGS_1260',\n",
       "       'NGS_1266', 'NGS_1276', 'NGS_1327', 'NGS_1357', 'NGS_1383',\n",
       "       'NGS_1386', 'NGS_1444', 'NGS_1480', 'NGS_1497', 'NGS_1498',\n",
       "       'NGS_1604', 'NGS_1677', 'NGS_1684', 'NGS_1693', 'NGS_1708',\n",
       "       'NGS_1727', 'NGS_1730', 'NGS_1803', 'NGS_1812', 'NGS_1814',\n",
       "       'NGS_1824', 'NGS_1833', 'NGS_1834', 'NGS_1855', 'NGS_1874',\n",
       "       'NGS_1886', 'NGS_1907', 'NGS_1941', 'NGS_1946', 'NGS_2013',\n",
       "       'NGS_2029', 'NGS_2063', 'NGS_2178', 'NGS_2224', 'NGS_2247',\n",
       "       'NGS_2281', 'NGS_2357', 'NGS_2444', 'NGS_2464', 'NGS_2571',\n",
       "       'NGS_2572', 'NGS_2579', 'NGS_2621', 'NGS_2635', 'NGS_2639',\n",
       "       'NGS_2653', 'NGS_2679', 'NGS_2716', 'NGS_2719', 'NGS_2791',\n",
       "       'NGS_2811', 'NGS_2819', 'NGS_2853', 'NGS_2868', 'NGS_2883',\n",
       "       'NGS_2906', 'NGS_2913', 'NGS_2942', 'NGS_3019', 'NGS_3021',\n",
       "       'NGS_3102', 'NGS_3147', 'NGS_3190', 'NGS_3197', 'NGS_3230',\n",
       "       'NGS_3260', 'NGS_3264', 'NGS_3277', 'NGS_3418', 'NGS_3424',\n",
       "       'NGS_3426', 'NGS_3439', 'NGS_3552', 'NGS_3591', 'NGS_3633',\n",
       "       'NGS_3649', 'NGS_3675', 'NGS_3702', 'NGS_3761', 'NGS_3775',\n",
       "       'NGS_3800', 'NGS_3902', 'NGS_3912', 'NGS_3987', 'NGS_4030',\n",
       "       'NGS_4048', 'NGS_4053', 'NGS_4057', 'NGS_4085', 'NGS_4140',\n",
       "       'NGS_4145', 'NGS_4169', 'NGS_4171', 'NGS_4191', 'NGS_4197',\n",
       "       'NGS_4220', 'NGS_4231', 'NGS_4245', 'NGS_4263', 'NGS_4305',\n",
       "       'NGS_4324', 'NGS_4341', 'NGS_4352', 'NGS_4353', 'NGS_4375',\n",
       "       'NGS_4397', 'NGS_4444', 'NGS_4485', 'NGS_4515', 'NGS_4533',\n",
       "       'NGS_4556', 'NGS_4596', 'NGS_4608', 'NGS_4622', 'NGS_4623',\n",
       "       'NGS_4652', 'NGS_4683', 'NGS_4723', 'NGS_4748', 'NGS_4777',\n",
       "       'NGS_4793', 'NGS_4815', 'NGS_4816', 'NGS_4848', 'NGS_4922',\n",
       "       'NGS_4975', 'NGS_5017', 'NGS_5023', 'NGS_5025', 'NGS_5068',\n",
       "       'NGS_5072', 'NGS_5076', 'NGS_5147', 'NGS_5156', 'NGS_5182',\n",
       "       'NGS_5224', 'NGS_5227', 'NGS_5233', 'NGS_5240', 'NGS_5247',\n",
       "       'NGS_5260', 'NGS_5297', 'NGS_5374', 'NGS_5394', 'NGS_5395',\n",
       "       'NGS_5455', 'NGS_5460', 'NGS_5503', 'NGS_5524', 'NGS_5686',\n",
       "       'NGS_5720', 'NGS_5730', 'NGS_5736', 'NGS_5771', 'NGS_5780',\n",
       "       'NGS_5782', 'NGS_5785', 'NGS_5841', 'NGS_5881', 'NGS_5883',\n",
       "       'NGS_5889', 'NGS_5891', 'NGS_5902', 'NGS_5922', 'NGS_6007',\n",
       "       'NGS_6008', 'NGS_6016', 'NGS_6017', 'NGS_6025', 'NGS_6051',\n",
       "       'NGS_6052', 'NGS_6053', 'NGS_6105', 'NGS_6128', 'NGS_6146',\n",
       "       'NGS_6178', 'NGS_6202', 'NGS_6232', 'NGS_6299', 'NGS_6328',\n",
       "       'NGS_6371', 'NGS_6405', 'NGS_6444', 'NGS_6448', 'NGS_6509',\n",
       "       'NGS_6543', 'NGS_6564', 'NGS_6602', 'NGS_6608', 'NGS_6673',\n",
       "       'NGS_6713', 'NGS_6837', 'NGS_6851', 'NGS_6865', 'NGS_6878',\n",
       "       'NGS_6896', 'NGS_6927', 'NGS_6952', 'NGS_7027', 'NGS_7037',\n",
       "       'NGS_7083', 'NGS_7099', 'NGS_7109', 'NGS_7113', 'NGS_7202',\n",
       "       'NGS_7217', 'NGS_7226', 'NGS_7243', 'NGS_7260', 'NGS_7285',\n",
       "       'NGS_7366', 'NGS_7387', 'NGS_7432', 'NGS_7454', 'NGS_7459',\n",
       "       'NGS_7473', 'NGS_7599', 'NGS_7617', 'NGS_7657', 'NGS_7701',\n",
       "       'NGS_7713', 'NGS_7780', 'NGS_7850', 'NGS_7866', 'NGS_7900',\n",
       "       'NGS_7997', 'NGS_8015', 'NGS_8049', 'NGS_8055', 'NGS_8065',\n",
       "       'NGS_8088', 'NGS_8113', 'NGS_8115', 'NGS_8118', 'NGS_8175',\n",
       "       'NGS_8308', 'NGS_8367', 'NGS_8382', 'NGS_8391', 'NGS_8456',\n",
       "       'NGS_8464', 'NGS_8477', 'PMB_0010', 'PMB_0015', 'PMO_0037',\n",
       "       'PMO_0061', 'PMO_0062'], dtype='<U8')"
      ]
     },
     "execution_count": 41,
     "metadata": {},
     "output_type": "execute_result"
    }
   ],
   "source": [
    "np.sort([k for k in labels0])"
   ]
  },
  {
   "cell_type": "markdown",
   "metadata": {},
   "source": [
    "# Results\n",
    "We are using partition1 as testset to evaluate the model."
   ]
  },
  {
   "cell_type": "code",
   "execution_count": 42,
   "metadata": {},
   "outputs": [],
   "source": [
    "labels1 = np.load('dataset/processed/data_partitions/partition2/labels.npy', allow_pickle=True).item()\n",
    "data_path1 = 'dataset/processed/data_partitions/partition2/data_singlets'\n",
    "\n",
    "ids1 = [l for l in labels1]\n",
    "np.random.shuffle(ids1)\n",
    "\n",
    "test_gen = DataGenerator(ids1,labels1, data_path1, dim=(100,100), batch_size=32)\n",
    "\n",
    "labels, preds = test_gen.predict_all(model)"
   ]
  },
  {
   "cell_type": "code",
   "execution_count": 43,
   "metadata": {},
   "outputs": [],
   "source": [
    "def confusion_matrix(model, data_gen):\n",
    "    \n",
    "    labels, preds = data_gen.predict_all(model)\n",
    "\n",
    "    y_pred = np.argmax(preds,1)\n",
    "    y_data = np.argmax(labels,1)\n",
    "    M = np.zeros((16,16))\n",
    "\n",
    "    for pred_, true_ in zip(y_pred,y_data):\n",
    "        M[true_,pred_] +=1\n",
    "    \n",
    "    M[15,:15] = np.sum(M[:15,:15],0)\n",
    "    M[:15,15] = np.sum(M[:15,:15],1)\n",
    "    M[15,15] = np.sum(M[:15,:15])\n",
    "        \n",
    "    return M"
   ]
  },
  {
   "cell_type": "code",
   "execution_count": 44,
   "metadata": {},
   "outputs": [
    {
     "data": {
      "image/png": "[encoded data removed]",
      "text/plain": [
       "<Figure size 1440x1008 with 1 Axes>"
      ]
     },
     "metadata": {
      "needs_background": "light"
     },
     "output_type": "display_data"
    }
   ],
   "source": [
    "import matplotlib\n",
    "from client.models.AMLmodel import classes as aml_classes\n",
    "\n",
    "class_names_y = [aml_classes[k] for k in aml_classes] + ['Total']\n",
    "class_names_x = [k for k in aml_classes] + ['Total']\n",
    "\n",
    "\n",
    "def plot_confusion_matrix(matrix, title='Confusion matrix', cmap=plt.cm.autumn):\n",
    "    \n",
    "    f, ax = plt.subplots(1,1,figsize=(20,14))\n",
    "    color_mat = np.zeros(matrix.shape)\n",
    "    color_mat[:15,:15] = matrix[:15,:15]/np.maximum(1,np.sum(matrix[:15,:15],0))\n",
    "    ax.matshow(color_mat, cmap=cmap, norm=matplotlib.colors.LogNorm()) \n",
    "\n",
    "    tick_mark = np.arange(16)\n",
    "    ax.set_xticks(tick_mark)\n",
    "    ax.set_yticks(tick_mark)\n",
    "\n",
    "    ax.set_xticklabels(class_names_x)\n",
    "    ax.set_yticklabels(class_names_y)\n",
    "    \n",
    "    for (i, j), z in np.ndenumerate(matrix):\n",
    "        \n",
    "        ax.text(j, i, '{:0.0f}'.format(z), ha='center', va='center')\n",
    "\n",
    "    ax.axvline(x=14.5,color='black',lw=5)\n",
    "    ax.axhline(y=14.5,color='black', lw=5)\n",
    "    ax.set_xlabel('Predicted class', fontsize=20)\n",
    "    ax.set_ylabel('True class', fontsize=20)\n",
    "\n",
    "M = confusion_matrix(model, test_gen)\n",
    "plot_confusion_matrix(M)\n",
    "plt.savefig('confusion_sample.png')"
   ]
  },
  {
   "cell_type": "code",
   "execution_count": null,
   "metadata": {},
   "outputs": [],
   "source": []
  }
 ],
 "metadata": {
  "kernelspec": {
   "display_name": "Python 3",
   "language": "python",
   "name": "python3"
  },
  "language_info": {
   "codemirror_mode": {
    "name": "ipython",
    "version": 3
   },
   "file_extension": ".py",
   "mimetype": "text/x-python",
   "name": "python",
   "nbconvert_exporter": "python",
   "pygments_lexer": "ipython3",
   "version": "3.8.8"
  }
 },
 "nbformat": 4,
 "nbformat_minor": 4
}
