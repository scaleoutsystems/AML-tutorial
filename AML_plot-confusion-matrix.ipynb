{
 "cells": [
  {
   "cell_type": "code",
   "execution_count": 1,
   "metadata": {},
   "outputs": [
    {
     "name": "stdout",
     "output_type": "stream",
     "text": [
      "Tensor Flow Version: 2.3.2\n",
      "Keras Version: 2.4.0\n",
      "\n",
      "Python 3.8.8 | packaged by conda-forge | (default, Feb 20 2021, 16:22:27) \n",
      "[GCC 9.3.0]\n",
      "GPU is NOT AVAILABLE\n"
     ]
    }
   ],
   "source": [
    "import sys\n",
    "# Before using tensorflow:\n",
    "import os\n",
    "os.environ['TF_FORCE_GPU_ALLOW_GROWTH'] = 'true'\n",
    "import tensorflow as tf\n",
    "import tensorflow.keras.backend as KB\n",
    "from matplotlib import pylab as plt\n",
    "import tensorflow.keras\n",
    "#from tensorflow.python.framework.ops import disable_eager_execution\n",
    "#disable_eager_execution()\n",
    "\n",
    "import pickle\n",
    "import numpy as np\n",
    "print(f\"Tensor Flow Version: {tf.__version__}\")\n",
    "print(f\"Keras Version: {tensorflow.keras.__version__}\")\n",
    "print()\n",
    "print(f\"Python {sys.version}\")\n",
    "\n",
    "gpu = len(tf.config.list_physical_devices('GPU'))>0\n",
    "print(\"GPU is\", \"available\" if gpu else \"NOT AVAILABLE\")\n"
   ]
  },
  {
   "cell_type": "markdown",
   "metadata": {},
   "source": [
    "## Create model"
   ]
  },
  {
   "cell_type": "code",
   "execution_count": 3,
   "metadata": {},
   "outputs": [],
   "source": [
    "import tensorflow\n",
    "from client.models.AMLmodel import construct_model\n",
    "model = construct_model()"
   ]
  },
  {
   "cell_type": "code",
   "execution_count": 4,
   "metadata": {},
   "outputs": [
    {
     "name": "stdout",
     "output_type": "stream",
     "text": [
      "Model: \"sequential\"\n",
      "_________________________________________________________________\n",
      "Layer (type)                 Output Shape              Param #   \n",
      "=================================================================\n",
      "conv2d (Conv2D)              (None, 100, 100, 32)      1184      \n",
      "_________________________________________________________________\n",
      "activation (Activation)      (None, 100, 100, 32)      0         \n",
      "_________________________________________________________________\n",
      "conv2d_1 (Conv2D)            (None, 98, 98, 32)        9248      \n",
      "_________________________________________________________________\n",
      "activation_1 (Activation)    (None, 98, 98, 32)        0         \n",
      "_________________________________________________________________\n",
      "max_pooling2d (MaxPooling2D) (None, 49, 49, 32)        0         \n",
      "_________________________________________________________________\n",
      "dropout (Dropout)            (None, 49, 49, 32)        0         \n",
      "_________________________________________________________________\n",
      "conv2d_2 (Conv2D)            (None, 49, 49, 64)        18496     \n",
      "_________________________________________________________________\n",
      "activation_2 (Activation)    (None, 49, 49, 64)        0         \n",
      "_________________________________________________________________\n",
      "conv2d_3 (Conv2D)            (None, 47, 47, 64)        36928     \n",
      "_________________________________________________________________\n",
      "activation_3 (Activation)    (None, 47, 47, 64)        0         \n",
      "_________________________________________________________________\n",
      "max_pooling2d_1 (MaxPooling2 (None, 23, 23, 64)        0         \n",
      "_________________________________________________________________\n",
      "dropout_1 (Dropout)          (None, 23, 23, 64)        0         \n",
      "_________________________________________________________________\n",
      "flatten (Flatten)            (None, 33856)             0         \n",
      "_________________________________________________________________\n",
      "dense (Dense)                (None, 512)               17334784  \n",
      "_________________________________________________________________\n",
      "batch_normalization (BatchNo (None, 512)               2048      \n",
      "_________________________________________________________________\n",
      "activation_4 (Activation)    (None, 512)               0         \n",
      "_________________________________________________________________\n",
      "dropout_2 (Dropout)          (None, 512)               0         \n",
      "_________________________________________________________________\n",
      "dense_1 (Dense)              (None, 15)                7695      \n",
      "_________________________________________________________________\n",
      "activation_5 (Activation)    (None, 15)                0         \n",
      "=================================================================\n",
      "Total params: 17,410,383\n",
      "Trainable params: 17,409,359\n",
      "Non-trainable params: 1,024\n",
      "_________________________________________________________________\n"
     ]
    }
   ],
   "source": [
    "model.summary()"
   ]
  },
  {
   "cell_type": "markdown",
   "metadata": {},
   "source": [
    "## Load training data"
   ]
  },
  {
   "cell_type": "code",
   "execution_count": 5,
   "metadata": {},
   "outputs": [],
   "source": [
    "import numpy as np\n",
    "from client.data.datagenerator import DataGenerator\n",
    "labels = np.load('dataset/processed/data_partitions/partition0/labels.npy', allow_pickle=True).item()\n",
    "data_path = 'dataset/processed/data_partitions/partition0/data_singlets'\n",
    "\n",
    "ids = [l for l in labels]\n",
    "np.random.shuffle(ids)\n",
    "train_split_index = int(len(ids)*0.9)\n",
    "train_ids = ids[:train_split_index]\n",
    "val_ids = ids[train_split_index:]\n",
    "\n",
    "train_gen = DataGenerator(train_ids,labels, data_path, dim=(100,100), batch_size=32)\n",
    "val_gen = DataGenerator(val_ids,labels, data_path, dim=(100,100), batch_size=32)"
   ]
  },
  {
   "cell_type": "markdown",
   "metadata": {},
   "source": [
    "## Train model\n",
    "Replace the trained model with some global model trained federated in fedn"
   ]
  },
  {
   "cell_type": "code",
   "execution_count": 11,
   "metadata": {
    "scrolled": true
   },
   "outputs": [
    {
     "name": "stdout",
     "output_type": "stream",
     "text": [
      "Epoch 1/20\n",
      "17/17 [==============================] - 12s 681ms/step - loss: 0.0232 - accuracy: 0.9945 - val_loss: 0.5339 - val_accuracy: 0.8125\n",
      "Epoch 2/20\n",
      "17/17 [==============================] - 11s 674ms/step - loss: 0.0152 - accuracy: 0.9982 - val_loss: 0.5403 - val_accuracy: 0.8750\n",
      "Epoch 3/20\n",
      "17/17 [==============================] - 11s 667ms/step - loss: 0.0119 - accuracy: 0.9982 - val_loss: 0.7019 - val_accuracy: 0.8125\n",
      "Epoch 4/20\n",
      "17/17 [==============================] - 12s 677ms/step - loss: 0.0097 - accuracy: 1.0000 - val_loss: 0.4937 - val_accuracy: 0.8438\n",
      "Epoch 5/20\n",
      "17/17 [==============================] - 11s 667ms/step - loss: 0.0096 - accuracy: 1.0000 - val_loss: 0.9820 - val_accuracy: 0.8125\n",
      "Epoch 6/20\n",
      "17/17 [==============================] - 12s 687ms/step - loss: 0.0094 - accuracy: 0.9982 - val_loss: 0.9303 - val_accuracy: 0.7500\n",
      "Epoch 7/20\n",
      "17/17 [==============================] - 12s 688ms/step - loss: 0.0067 - accuracy: 1.0000 - val_loss: 1.1958 - val_accuracy: 0.7500\n",
      "Epoch 8/20\n",
      "17/17 [==============================] - 11s 674ms/step - loss: 0.0059 - accuracy: 1.0000 - val_loss: 0.6595 - val_accuracy: 0.8750\n",
      "Epoch 9/20\n",
      "17/17 [==============================] - 12s 690ms/step - loss: 0.0074 - accuracy: 0.9982 - val_loss: 0.9964 - val_accuracy: 0.7500\n",
      "Epoch 10/20\n",
      "17/17 [==============================] - 11s 663ms/step - loss: 0.0083 - accuracy: 0.9982 - val_loss: 0.6648 - val_accuracy: 0.8750\n",
      "Epoch 11/20\n",
      "17/17 [==============================] - 11s 673ms/step - loss: 0.0101 - accuracy: 0.9982 - val_loss: 0.4872 - val_accuracy: 0.7812\n",
      "Epoch 12/20\n",
      "17/17 [==============================] - 12s 681ms/step - loss: 0.0118 - accuracy: 0.9963 - val_loss: 0.7560 - val_accuracy: 0.7500\n",
      "Epoch 13/20\n",
      "17/17 [==============================] - 11s 665ms/step - loss: 0.0104 - accuracy: 1.0000 - val_loss: 1.5844 - val_accuracy: 0.6562\n",
      "Epoch 14/20\n",
      "17/17 [==============================] - 11s 671ms/step - loss: 0.0051 - accuracy: 1.0000 - val_loss: 0.8611 - val_accuracy: 0.8125\n",
      "Epoch 15/20\n",
      "17/17 [==============================] - 11s 673ms/step - loss: 0.0219 - accuracy: 0.9908 - val_loss: 0.5955 - val_accuracy: 0.8750\n",
      "Epoch 16/20\n",
      "17/17 [==============================] - 12s 682ms/step - loss: 0.0140 - accuracy: 0.9982 - val_loss: 1.1744 - val_accuracy: 0.7500\n",
      "Epoch 17/20\n",
      "17/17 [==============================] - 11s 669ms/step - loss: 0.0108 - accuracy: 1.0000 - val_loss: 0.8990 - val_accuracy: 0.7812\n",
      "Epoch 18/20\n",
      "17/17 [==============================] - 11s 672ms/step - loss: 0.0070 - accuracy: 0.9982 - val_loss: 1.4657 - val_accuracy: 0.8438\n",
      "Epoch 19/20\n",
      "17/17 [==============================] - 12s 681ms/step - loss: 0.0059 - accuracy: 1.0000 - val_loss: 0.8576 - val_accuracy: 0.7812\n",
      "Epoch 20/20\n",
      "17/17 [==============================] - 11s 674ms/step - loss: 0.0058 - accuracy: 1.0000 - val_loss: 1.4745 - val_accuracy: 0.7188\n"
     ]
    },
    {
     "data": {
      "text/plain": [
       "<tensorflow.python.keras.callbacks.History at 0x7f700ea26550>"
      ]
     },
     "execution_count": 11,
     "metadata": {},
     "output_type": "execute_result"
    }
   ],
   "source": [
    "model.fit(train_gen, validation_data=val_gen, epochs=20)"
   ]
  },
  {
   "cell_type": "markdown",
   "metadata": {},
   "source": [
    "# Results\n",
    "We are using partition1 as testset to evaluate the model."
   ]
  },
  {
   "cell_type": "code",
   "execution_count": 12,
   "metadata": {},
   "outputs": [],
   "source": [
    "labels = np.load('dataset/processed/data_partitions/partition1/labels.npy', allow_pickle=True).item()\n",
    "\n",
    "data_path = 'dataset/processed/data_partitions/partition1/data_singlets'\n",
    "\n",
    "ids = [l for l in labels]\n",
    "np.random.shuffle(ids)\n",
    "\n",
    "test_gen = DataGenerator(ids,labels, data_path, dim=(100,100), batch_size=32)\n",
    "\n",
    "labels, preds = test_gen.predict_all(model)"
   ]
  },
  {
   "cell_type": "code",
   "execution_count": 13,
   "metadata": {},
   "outputs": [],
   "source": [
    "def confusion_matrix(model, data_gen):\n",
    "    \n",
    "    labels, preds = data_gen.predict_all(model)\n",
    "\n",
    "    y_pred = np.argmax(preds,1)\n",
    "    y_data = np.argmax(labels,1)\n",
    "    M = np.zeros((16,16))\n",
    "\n",
    "    for pred_, true_ in zip(y_pred,y_data):\n",
    "        M[true_,pred_] +=1\n",
    "    \n",
    "    M[15,:15] = np.sum(M[:15,:15],0)\n",
    "    M[:15,15] = np.sum(M[:15,:15],1)\n",
    "        \n",
    "    return M"
   ]
  },
  {
   "cell_type": "code",
   "execution_count": 14,
   "metadata": {},
   "outputs": [
    {
     "data": {
      "image/png": "[encoded data removed]",
      "text/plain": [
       "<Figure size 1440x1008 with 1 Axes>"
      ]
     },
     "metadata": {
      "needs_background": "light"
     },
     "output_type": "display_data"
    }
   ],
   "source": [
    "import matplotlib\n",
    "from client.models.AMLmodel import classes as aml_classes\n",
    "\n",
    "class_names_y = [aml_classes[k] for k in aml_classes] + ['Total']\n",
    "class_names_x = [k for k in aml_classes] + ['Total']\n",
    "\n",
    "\n",
    "def plot_confusion_matrix(matrix, title='Confusion matrix', cmap=plt.cm.autumn):\n",
    "    \n",
    "    f, ax = plt.subplots(1,1,figsize=(20,14))\n",
    "    color_mat = np.zeros(matrix.shape)\n",
    "    color_mat[:15,:15] = matrix[:15,:15]/np.maximum(1,np.sum(matrix[:15,:15],0))\n",
    "    ax.matshow(color_mat, cmap=cmap, norm=matplotlib.colors.LogNorm()) \n",
    "\n",
    "    tick_mark = np.arange(16)\n",
    "    ax.set_xticks(tick_mark)\n",
    "    ax.set_yticks(tick_mark)\n",
    "\n",
    "    ax.set_xticklabels(class_names_x)\n",
    "    ax.set_yticklabels(class_names_y)\n",
    "    \n",
    "    for (i, j), z in np.ndenumerate(matrix):\n",
    "        \n",
    "        if i+j < 30:\n",
    "            \n",
    "            ax.text(j, i, '{:0.0f}'.format(z), ha='center', va='center')\n",
    "\n",
    "    ax.axvline(x=14.5,color='black',lw=5)\n",
    "    ax.axhline(y=14.5,color='black', lw=5)\n",
    "    ax.set_xlabel('Predicted class', fontsize=20)\n",
    "    ax.set_ylabel('True class', fontsize=20)\n",
    "\n",
    "M = confusion_matrix(model, train_gen)\n",
    "plot_confusion_matrix(M)\n",
    "plt.savefig('confusion_sample.png')"
   ]
  },
  {
   "cell_type": "code",
   "execution_count": null,
   "metadata": {},
   "outputs": [],
   "source": []
  }
 ],
 "metadata": {
  "kernelspec": {
   "display_name": "Python 3",
   "language": "python",
   "name": "python3"
  },
  "language_info": {
   "codemirror_mode": {
    "name": "ipython",
    "version": 3
   },
   "file_extension": ".py",
   "mimetype": "text/x-python",
   "name": "python",
   "nbconvert_exporter": "python",
   "pygments_lexer": "ipython3",
   "version": "3.8.8"
  }
 },
 "nbformat": 4,
 "nbformat_minor": 4
}
